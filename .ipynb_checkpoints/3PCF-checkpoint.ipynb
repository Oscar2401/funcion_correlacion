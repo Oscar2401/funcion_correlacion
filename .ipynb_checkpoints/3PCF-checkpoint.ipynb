{
 "cells": [
  {
   "cell_type": "code",
   "execution_count": 1,
   "metadata": {},
   "outputs": [],
   "source": [
    "from mpl_toolkits.mplot3d import Axes3D         # Cargo Axes3D de mpl_toolkits.mplot3d\n",
    "import matplotlib.pyplot as plt\n",
    "import numpy as np\n",
    "import random\n",
    "import time\n",
    "import pandas as pd\n",
    "%matplotlib inline"
   ]
  },
  {
   "cell_type": "code",
   "execution_count": 2,
   "metadata": {},
   "outputs": [],
   "source": [
    "data  = pd.read_csv('/home/echeveste/Mis_trabajos/correlation_f/data/data.dat', sep = ' ', header=None)\n",
    "rand0 = pd.read_csv('/home/echeveste/Mis_trabajos/correlation_f/data/rand0.dat',sep = ' ', header=None)"
   ]
  },
  {
   "cell_type": "code",
   "execution_count": 3,
   "metadata": {},
   "outputs": [],
   "source": [
    "# Pasamos los datos a un array numpy\n",
    "data = np.array(data.T[0:3].T)\n",
    "rand = np.array(rand0.T[0:3].T)"
   ]
  },
  {
   "cell_type": "code",
   "execution_count": 24,
   "metadata": {},
   "outputs": [],
   "source": [
    "nn = np.histogramdd(np.array([data[:,0],data[:,1],data[:,2]]).T,bins =30, range=[[0,180],[0,180],[0,180]])[0]\n",
    "#rr = np.histogramdd(np.array([data[:,0],data[:,1],data[:,2]]).T,bins =30)[0]"
   ]
  },
  {
   "cell_type": "code",
   "execution_count": 86,
   "metadata": {},
   "outputs": [],
   "source": [
    "#FUNCIÓN DE PARA HACER HISTOGRAMAS \n",
    "def Histos(p,p_r,bn,point_max):\n",
    "    \"\"\" \n",
    "    Función para construir los histogramas \n",
    "    \n",
    "    p = datos\n",
    "    p_r = random\n",
    "    bn = tamaño de bins\n",
    "    point_max = punto máximo en el histograma\n",
    "    \n",
    "    \"\"\"\n",
    "    \n",
    "    #Inicializamos los arreglos de los histogramas\n",
    "    NDDD = np.zeros((bn,bn,bn))\n",
    "    NRRR = np.zeros((bn,bn,bn))\n",
    "    NDDR = np.zeros((bn,bn,bn))\n",
    "    NDRR = np.zeros((bn,bn,bn))\n",
    "    \n",
    "    n = 0\n",
    "    \n",
    "    for (ii, jj) in zip(p, p_r):\n",
    "        n = n+1\n",
    "        \n",
    "        s = ii-p[n:] # Diferencia entre el punto pivote y los demas puntos siguientes \n",
    "        r = np.sqrt(s[:,0]**2+s[:,1]**2+s[:,2]**2)\n",
    "        \n",
    "        s_ran = jj-p_r[n:] # Diferencia entre el punto pivote y los demas puntos siguientes \n",
    "        r_ran = np.sqrt(s_ran[:,0]**2+s_ran[:,1]**2+s_ran[:,2]**2)\n",
    "        \n",
    "        m = 0\n",
    "        for (kk, ll) in zip(p[n:], p_r[n:]):\n",
    "            \n",
    "            #DD ===============================================================================\n",
    "            r12 = np.ones_like(r[m+1:])*r[m]\n",
    "            r13 = r[m+1:]\n",
    "            \n",
    "            # Histogramas para DD\n",
    "            ss = kk-p[n:][m+1:] # Diferencia entre el punto pivote y los demas puntos siguientes \n",
    "            r32 = np.sqrt(ss[:,0]**2+ss[:,1]**2+ss[:,2]**2)\n",
    "            \n",
    "            \n",
    "            dis, dim = np.histogramdd(np.array([r12,r13,r32]).T,bins = bn, \n",
    "                                    range=[[0,point_max],[0,point_max],[0,point_max]])\n",
    "            NDDD = NDDD + dis\n",
    "            \n",
    "            #RR ===============================================================================\n",
    "            r12 = np.ones_like(r_ran[m+1:])*r_ran[m]\n",
    "            r13 = r_ran[m+1:]\n",
    "            \n",
    "            # Histogramas para DD\n",
    "            ss = ll-p_r[n:][m+1:] # Diferencia entre el punto pivote y los demas puntos siguientes \n",
    "            r32 = np.sqrt(ss[:,0]**2+ss[:,1]**2+ss[:,2]**2)\n",
    "            \n",
    "            dis, dim = np.histogramdd(np.array([r12,r13,r32]).T,bins =bn, \n",
    "                                    range=[[0,point_max],[0,point_max],[0,point_max]])\n",
    "            NRRR = NRRR + dis  \n",
    "            \n",
    "            m = m+1\n",
    "    \n",
    "    #for ii in p:\n",
    "        # Histogramas para DR\n",
    "    #    s = ii-p_r\n",
    "    #    dis, r = np.histogram(np.sqrt(s[:,0]**2+s[:,1]**2+s[:,2]**2), bins=bn, range=(0, point_max))\n",
    "    #    NDR = NDR + dis\n",
    "    \n",
    "    return dim, NDDD, NRRR, NDDR, NDRR"
   ]
  },
  {
   "cell_type": "code",
   "execution_count": 87,
   "metadata": {},
   "outputs": [
    {
     "ename": "KeyboardInterrupt",
     "evalue": "",
     "output_type": "error",
     "traceback": [
      "\u001b[0;31m---------------------------------------------------------------------------\u001b[0m",
      "\u001b[0;31mKeyboardInterrupt\u001b[0m                         Traceback (most recent call last)",
      "\u001b[0;32m<ipython-input-87-e29c9b06a42d>\u001b[0m in \u001b[0;36m<module>\u001b[0;34m()\u001b[0m\n\u001b[1;32m      2\u001b[0m \u001b[0;34m\u001b[0m\u001b[0m\n\u001b[1;32m      3\u001b[0m \u001b[0mbins\u001b[0m \u001b[0;34m=\u001b[0m \u001b[0;36m30\u001b[0m\u001b[0;34m\u001b[0m\u001b[0;34m\u001b[0m\u001b[0m\n\u001b[0;32m----> 4\u001b[0;31m \u001b[0mdim\u001b[0m\u001b[0;34m,\u001b[0m \u001b[0mNDDD\u001b[0m\u001b[0;34m,\u001b[0m \u001b[0mNRRR\u001b[0m\u001b[0;34m,\u001b[0m \u001b[0mNDDR\u001b[0m\u001b[0;34m,\u001b[0m \u001b[0mNDRR\u001b[0m \u001b[0;34m=\u001b[0m \u001b[0mHistos\u001b[0m\u001b[0;34m(\u001b[0m\u001b[0mdata\u001b[0m\u001b[0;34m,\u001b[0m\u001b[0mrand\u001b[0m\u001b[0;34m,\u001b[0m\u001b[0mbins\u001b[0m\u001b[0;34m,\u001b[0m\u001b[0;36m180\u001b[0m\u001b[0;34m)\u001b[0m\u001b[0;34m\u001b[0m\u001b[0;34m\u001b[0m\u001b[0m\n\u001b[0m\u001b[1;32m      5\u001b[0m \u001b[0;34m\u001b[0m\u001b[0m\n\u001b[1;32m      6\u001b[0m \u001b[0mfinish\u001b[0m \u001b[0;34m=\u001b[0m \u001b[0mtime\u001b[0m\u001b[0;34m.\u001b[0m\u001b[0mperf_counter\u001b[0m\u001b[0;34m(\u001b[0m\u001b[0;34m)\u001b[0m\u001b[0;34m\u001b[0m\u001b[0;34m\u001b[0m\u001b[0m\n",
      "\u001b[0;32m<ipython-input-86-84e31db377f1>\u001b[0m in \u001b[0;36mHistos\u001b[0;34m(p, p_r, bn, point_max)\u001b[0m\n\u001b[1;32m     41\u001b[0m \u001b[0;34m\u001b[0m\u001b[0m\n\u001b[1;32m     42\u001b[0m             dis, dim = np.histogramdd(np.array([r12,r13,r32]).T,bins = bn, \n\u001b[0;32m---> 43\u001b[0;31m                                     range=[[0,point_max],[0,point_max],[0,point_max]])\n\u001b[0m\u001b[1;32m     44\u001b[0m             \u001b[0mNDDD\u001b[0m \u001b[0;34m=\u001b[0m \u001b[0mNDDD\u001b[0m \u001b[0;34m+\u001b[0m \u001b[0mdis\u001b[0m\u001b[0;34m\u001b[0m\u001b[0;34m\u001b[0m\u001b[0m\n\u001b[1;32m     45\u001b[0m \u001b[0;34m\u001b[0m\u001b[0m\n",
      "\u001b[0;32m<__array_function__ internals>\u001b[0m in \u001b[0;36mhistogramdd\u001b[0;34m(*args, **kwargs)\u001b[0m\n",
      "\u001b[0;32m/usr/local/lib/python3.6/dist-packages/numpy/lib/histograms.py\u001b[0m in \u001b[0;36mhistogramdd\u001b[0;34m(sample, bins, range, normed, weights, density)\u001b[0m\n\u001b[1;32m   1083\u001b[0m     \u001b[0;31m# Compute the sample indices in the flattened histogram matrix.\u001b[0m\u001b[0;34m\u001b[0m\u001b[0;34m\u001b[0m\u001b[0;34m\u001b[0m\u001b[0m\n\u001b[1;32m   1084\u001b[0m     \u001b[0;31m# This raises an error if the array is too large.\u001b[0m\u001b[0;34m\u001b[0m\u001b[0;34m\u001b[0m\u001b[0;34m\u001b[0m\u001b[0m\n\u001b[0;32m-> 1085\u001b[0;31m     \u001b[0mxy\u001b[0m \u001b[0;34m=\u001b[0m \u001b[0mnp\u001b[0m\u001b[0;34m.\u001b[0m\u001b[0mravel_multi_index\u001b[0m\u001b[0;34m(\u001b[0m\u001b[0mNcount\u001b[0m\u001b[0;34m,\u001b[0m \u001b[0mnbin\u001b[0m\u001b[0;34m)\u001b[0m\u001b[0;34m\u001b[0m\u001b[0;34m\u001b[0m\u001b[0m\n\u001b[0m\u001b[1;32m   1086\u001b[0m \u001b[0;34m\u001b[0m\u001b[0m\n\u001b[1;32m   1087\u001b[0m     \u001b[0;31m# Compute the number of repetitions in xy and assign it to the\u001b[0m\u001b[0;34m\u001b[0m\u001b[0;34m\u001b[0m\u001b[0;34m\u001b[0m\u001b[0m\n",
      "\u001b[0;32m<__array_function__ internals>\u001b[0m in \u001b[0;36mravel_multi_index\u001b[0;34m(*args, **kwargs)\u001b[0m\n",
      "\u001b[0;31mKeyboardInterrupt\u001b[0m: "
     ]
    }
   ],
   "source": [
    "start = time.perf_counter()\n",
    "\n",
    "bins = 30\n",
    "dim, NDDD, NRRR, NDDR, NDRR = Histos(data,rand,bins,180)\n",
    "\n",
    "finish = time.perf_counter()\n",
    "\n",
    "print(f'Finializó en {round(finish-start,2)} segundos')"
   ]
  },
  {
   "cell_type": "code",
   "execution_count": null,
   "metadata": {},
   "outputs": [],
   "source": []
  },
  {
   "cell_type": "code",
   "execution_count": null,
   "metadata": {},
   "outputs": [],
   "source": []
  },
  {
   "cell_type": "code",
   "execution_count": null,
   "metadata": {},
   "outputs": [],
   "source": []
  }
 ],
 "metadata": {
  "kernelspec": {
   "display_name": "Python 3",
   "language": "python",
   "name": "python3"
  },
  "language_info": {
   "codemirror_mode": {
    "name": "ipython",
    "version": 3
   },
   "file_extension": ".py",
   "mimetype": "text/x-python",
   "name": "python",
   "nbconvert_exporter": "python",
   "pygments_lexer": "ipython3",
   "version": "3.6.9"
  }
 },
 "nbformat": 4,
 "nbformat_minor": 2
}
