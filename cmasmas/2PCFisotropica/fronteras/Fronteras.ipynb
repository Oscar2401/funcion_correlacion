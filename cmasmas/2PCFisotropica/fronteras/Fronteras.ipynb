{
 "cells": [
  {
   "cell_type": "code",
   "execution_count": 1,
   "metadata": {},
   "outputs": [],
   "source": [
    "import matplotlib.pyplot as plt\n",
    "import numpy as np"
   ]
  },
  {
   "cell_type": "code",
   "execution_count": 303,
   "metadata": {},
   "outputs": [],
   "source": [
    "dat = np.array([[247,240],[2,8]])\n",
    "dat_f1 = [[] for i in range(2)]\n",
    "\n",
    "front = 50\n",
    "\n",
    "for i in range(len(dat)):\n",
    "    if dat[i][0] < front and dat[i][1] < front:\n",
    "        dat_f1[i].append(250+dat[i][0]) #x\n",
    "        dat_f1[i].append(250+dat[i][1]) #y\n",
    "    if dat[i][0] < front and dat[i][1] > front:\n",
    "        dat_f1[i].append(250+dat[i][0]) #x\n",
    "        dat_f1[i].append(dat[i][1]) #y\n",
    "    if dat[i][0] > front and dat[i][1] < front:\n",
    "        dat_f1[i].append(dat[i][0]) #x\n",
    "        dat_f1[i].append(250+dat[i][1]) #y\n",
    "    if dat[i][0] > 250-front and dat[i][1] > 250-front:\n",
    "        dat_f1[i].append(dat[i][0]-250) #x\n",
    "        dat_f1[i].append(dat[i][1]-250) #y\n",
    "    if dat[i][0] > 250-front and dat[i][1] < 250-front:\n",
    "        dat_f1[i].append(dat[i][0]-250) #x\n",
    "        dat_f1[i].append(dat[i][1]) #y\n",
    "    if dat[i][0] < 250-front and dat[i][1] > 250-front:\n",
    "        dat_f1[i].append(dat[i][0]) #x\n",
    "        dat_f1[i].append(dat[i][1]-250) #y\n",
    "\n",
    "dat_f1 = np.array(dat_f1)"
   ]
  },
  {
   "cell_type": "code",
   "execution_count": 304,
   "metadata": {},
   "outputs": [
    {
     "data": {
      "text/plain": [
       "array([[ -3, -10],\n",
       "       [252, 258]])"
      ]
     },
     "execution_count": 304,
     "metadata": {},
     "output_type": "execute_result"
    }
   ],
   "source": [
    "dat_f1"
   ]
  },
  {
   "cell_type": "code",
   "execution_count": 305,
   "metadata": {},
   "outputs": [
    {
     "data": {
      "text/plain": [
       "(-50.0, 300.0)"
      ]
     },
     "execution_count": 305,
     "metadata": {},
     "output_type": "execute_result"
    },
    {
     "data": {
      "image/png": "[encoded data removed]",
      "text/plain": [
       "<Figure size 576x576 with 1 Axes>"
      ]
     },
     "metadata": {
      "needs_background": "light"
     },
     "output_type": "display_data"
    }
   ],
   "source": [
    "fig = plt.figure(figsize=(8,8))\n",
    "plt.scatter(dat[:,0],dat[:,1])\n",
    "#plt.scatter(dat_f1[:,0],dat_f1[:,1])\n",
    "plt.axvline(0, ymin=-front, ymax =250+front, linewidth=2, color = 'r')\n",
    "plt.axvline(250, ymin=-front, ymax =250+front , linewidth=2, color = 'r')\n",
    "plt.hlines(0, xmin=-front, xmax=250+front, linewidth=2, color = 'r')\n",
    "plt.hlines(250, xmin=-front, xmax=250+front, linewidth=2, color = 'r')\n",
    "plt.axvline(front, ymin=-front, ymax =250+front , linewidth=1, color = 'g')\n",
    "plt.axvline(250-front, ymin=-front, ymax =250+front , linewidth=1, color = 'g')\n",
    "plt.hlines(front, xmin=-front, xmax=250+front, linewidth=1, color = 'g')\n",
    "plt.hlines(250-front, xmin=-front, xmax=250+front, linewidth=1, color = 'g')\n",
    "plt.xlim(-front,250+front)\n",
    "plt.ylim(-front,250+front)"
   ]
  },
  {
   "cell_type": "raw",
   "metadata": {},
   "source": []
  },
  {
   "cell_type": "code",
   "execution_count": 306,
   "metadata": {},
   "outputs": [],
   "source": [
    "ddis = (dat[0][0]-dat[1][0])**2 + (dat[0][1]-dat[1][1])\n",
    "if (dat[0][0] < front or dat[1][0] < front) and (dat[0][0] > 250-front or dat[1][0] > 250-front):\n",
    "    ddis_x = ddis + (250)**2 - (2*abs(dat[0][0]-dat[1][0])*250)\n",
    "if (dat[0][1] < front or dat[1][1] < front) and (dat[0][1] > 250-front or dat[1][1] > 250-front):\n",
    "    ddis_y = ddis + (250)**2- (2*abs(dat[0][1]-dat[1][1])*250)\n",
    "# Se necesita otra de z\n",
    "if (dat[0][0] < front or dat[1][0] < front) and (dat[0][0] > 250-front or dat[1][0] > 250-front) and (dat[0][1] < front or dat[1][1] < front) and (dat[0][1] > 250-front or dat[1][1] > 250-front):\n",
    "    ddis_p = ddis + (250)**2- (2*250*(abs(dat[0][0]-dat[0][1]) + abs(dat[0][1]-dat[1][1])))"
   ]
  },
  {
   "cell_type": "code",
   "execution_count": 308,
   "metadata": {},
   "outputs": [
    {
     "data": {
      "text/plain": [
       "False"
      ]
     },
     "execution_count": 308,
     "metadata": {},
     "output_type": "execute_result"
    }
   ],
   "source": [
    "ddis_p<50**2"
   ]
  },
  {
   "cell_type": "code",
   "execution_count": 309,
   "metadata": {},
   "outputs": [
    {
     "name": "stdout",
     "output_type": "stream",
     "text": [
      "CPU times: user 19 µs, sys: 6 µs, total: 25 µs\n",
      "Wall time: 34.3 µs\n"
     ]
    },
    {
     "data": {
      "text/plain": [
       "240"
      ]
     },
     "execution_count": 309,
     "metadata": {},
     "output_type": "execute_result"
    }
   ],
   "source": [
    "%time dat[0][1]"
   ]
  },
  {
   "cell_type": "code",
   "execution_count": 315,
   "metadata": {},
   "outputs": [
    {
     "name": "stdout",
     "output_type": "stream",
     "text": [
      "(240, None)\n",
      "CPU times: user 809 µs, sys: 217 µs, total: 1.03 ms\n",
      "Wall time: 1.04 ms\n"
     ]
    }
   ],
   "source": []
  },
  {
   "cell_type": "code",
   "execution_count": null,
   "metadata": {},
   "outputs": [],
   "source": []
  }
 ],
 "metadata": {
  "kernelspec": {
   "display_name": "Python 3",
   "language": "python",
   "name": "python3"
  },
  "language_info": {
   "codemirror_mode": {
    "name": "ipython",
    "version": 3
   },
   "file_extension": ".py",
   "mimetype": "text/x-python",
   "name": "python",
   "nbconvert_exporter": "python",
   "pygments_lexer": "ipython3",
   "version": "3.8.2"
  }
 },
 "nbformat": 4,
 "nbformat_minor": 4
}
