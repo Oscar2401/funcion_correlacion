{
 "cells": [
  {
   "cell_type": "code",
   "execution_count": 1,
   "metadata": {},
   "outputs": [],
   "source": [
    "from mpl_toolkits.mplot3d import Axes3D         # Cargo Axes3D de mpl_toolkits.mplot3d\n",
    "import matplotlib.pyplot as plt\n",
    "import numpy as np\n",
    "%matplotlib inline"
   ]
  },
  {
   "cell_type": "code",
   "execution_count": 2,
   "metadata": {},
   "outputs": [],
   "source": [
    "DD_mesh = np.loadtxt('/home/echeveste/mis_trabajos/correlation_f_2/funcion_correlacion/cmasmas/OSCAR/2PCFisotropicaMallas/DDaiso_mesh_full.dat')\n",
    "RR_mesh = np.loadtxt('/home/echeveste/mis_trabajos/correlation_f_2/funcion_correlacion/cmasmas/OSCAR/2PCFisotropicaMallas/RRiso_mesh_full.dat')\n",
    "DR_mesh = np.loadtxt('/home/echeveste/mis_trabajos/correlation_f_2/funcion_correlacion/cmasmas/OSCAR/2PCFisotropicaMallas/DRiso_mesh_full.dat')"
   ]
  },
  {
   "cell_type": "code",
   "execution_count": 3,
   "metadata": {},
   "outputs": [
    {
     "data": {
      "text/plain": [
       "array([ 2221700.,  5612670.,  8348700., 10175500., 11502300., 12573000.,\n",
       "       13635600., 14609400., 15515300., 16364800., 17140900., 17811000.,\n",
       "       18504600., 18980800., 19334600., 19724500., 19989400., 20143200.,\n",
       "       20312300., 20307500., 20239500., 20034200., 19644300., 19291800.,\n",
       "       18967200., 18490700., 17882700., 17352000., 16629400., 15941900.])"
      ]
     },
     "execution_count": 3,
     "metadata": {},
     "output_type": "execute_result"
    }
   ],
   "source": [
    "DD_mesh"
   ]
  },
  {
   "cell_type": "code",
   "execution_count": 4,
   "metadata": {},
   "outputs": [
    {
     "data": {
      "text/plain": [
       "487281470.0"
      ]
     },
     "execution_count": 4,
     "metadata": {},
     "output_type": "execute_result"
    }
   ],
   "source": [
    "sum(DD_mesh)"
   ]
  },
  {
   "cell_type": "code",
   "execution_count": 7,
   "metadata": {},
   "outputs": [
    {
     "data": {
      "text/plain": [
       "926268100.0"
      ]
     },
     "execution_count": 7,
     "metadata": {},
     "output_type": "execute_result"
    }
   ],
   "source": [
    "sum(2*DR_mesh)"
   ]
  },
  {
   "cell_type": "code",
   "execution_count": null,
   "metadata": {},
   "outputs": [],
   "source": []
  }
 ],
 "metadata": {
  "kernelspec": {
   "display_name": "Python 3",
   "language": "python",
   "name": "python3"
  },
  "language_info": {
   "codemirror_mode": {
    "name": "ipython",
    "version": 3
   },
   "file_extension": ".py",
   "mimetype": "text/x-python",
   "name": "python",
   "nbconvert_exporter": "python",
   "pygments_lexer": "ipython3",
   "version": "3.8.2"
  }
 },
 "nbformat": 4,
 "nbformat_minor": 4
}
