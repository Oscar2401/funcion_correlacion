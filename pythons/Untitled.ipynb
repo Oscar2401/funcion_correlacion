{
 "cells": [
  {
   "cell_type": "code",
   "execution_count": 5,
   "metadata": {},
   "outputs": [],
   "source": [
    "from mpl_toolkits.mplot3d import Axes3D         # Cargo Axes3D de mpl_toolkits.mplot3d\n",
    "import matplotlib.pyplot as plt\n",
    "import numpy as np\n",
    "import random\n",
    "import time\n",
    "import pandas as pd\n",
    "from matplotlib import animation\n",
    "import sys \n",
    "import math\n",
    "%matplotlib inline"
   ]
  },
  {
   "cell_type": "code",
   "execution_count": 9,
   "metadata": {},
   "outputs": [],
   "source": [
    "#Libreria para programar en parallelo\n",
    "from pyspark import SparkContext\n",
    "import multiprocessing as mp\n",
    "from joblib import Parallel, delayed"
   ]
  },
  {
   "cell_type": "code",
   "execution_count": 294,
   "metadata": {},
   "outputs": [],
   "source": [
    "def dis_XXX(p,bn,point_max):\n",
    "    \n",
    "    #Inicializamos los arreglos de los histogramas\n",
    "    NDDD = np.zeros((bn,bn,bn))\n",
    "    \n",
    "    # =========================================================================================== \n",
    "    \n",
    "    n = 0\n",
    "    for (ii) in zip(p):\n",
    "        n = n+1\n",
    "        \n",
    "        s = ii-p[n:] # Diferencia entre el punto pivote y los demas puntos siguientes \n",
    "        r = np.sqrt(s[:,0]**2+s[:,1]**2+s[:,2]**2)\n",
    "        \n",
    "        m = 0\n",
    "        for (kk) in zip(p[n:]):\n",
    "            \n",
    "            #DDD ===============================================================================\n",
    "            r12 = np.ones_like(r[m+1:])*r[m]\n",
    "            r13 = r[m+1:]\n",
    "        \n",
    "            ss = kk-p[n:][m+1:] # Diferencia entre el punto pivote y los demas puntos siguientes \n",
    "            r32 = np.sqrt(ss[:,0]**2+ss[:,1]**2+ss[:,2]**2)\n",
    "        \n",
    "            # Histogramas para DDD\n",
    "            dis, dim = np.histogramdd(np.array([r12,r13,r32]).T,bins = [bn,bn,bn], \n",
    "                                    range=[[0,point_max],[0,point_max],[0,point_max]])\n",
    "            NDDD = NDDD + dis\n",
    "            \n",
    "            m = m+1\n",
    "    \n",
    "    DDD = NDDD \n",
    "    #Hacemos la simetrización del histograma \n",
    "    \"\"\"\n",
    "    for i in range(bn - 2):\n",
    "        for j in range(i+1, bn-1):\n",
    "            for k in range(j+1, bn):\n",
    "                s = NDDD[i][j][k] + NDDD[i][k][j] + NDDD[j][i][k] + NDDD[j][k][i] + NDDD[k][i][j] + NDDD[k][j][i]\n",
    "                DDD[i][j][k] = s\n",
    "                DDD[i][k][j] = s\n",
    "                DDD[j][i][k] = s\n",
    "                DDD[j][k][i] = s\n",
    "                DDD[k][i][j] = s\n",
    "                DDD[k][j][i] = s\n",
    "    \"\"\"            \n",
    "    return DDD"
   ]
  },
  {
   "cell_type": "code",
   "execution_count": 295,
   "metadata": {},
   "outputs": [],
   "source": [
    "def dis_XXY(p,p_r,bn,point_max):\n",
    "    \n",
    "    NDDR = np.zeros((bn,bn,bn))\n",
    "    NDRR = np.zeros((bn,bn,bn))\n",
    "    \n",
    "    # =========================================================================================== \n",
    "    \n",
    "    n = 0\n",
    "    for (ii, jj) in zip(p, p_r):\n",
    "        n = n+1\n",
    "        \n",
    "        s = ii-p[n:] # Diferencia entre el punto pivote y los demas puntos siguientes \n",
    "        r = np.sqrt(s[:,0]**2+s[:,1]**2+s[:,2]**2)\n",
    "        \n",
    "        s_ran = jj-p_r[n:] # Diferencia entre el punto pivote y los demas puntos siguientes \n",
    "        r_ran = np.sqrt(s_ran[:,0]**2+s_ran[:,1]**2+s_ran[:,2]**2)\n",
    "        \n",
    "        m = 0\n",
    "        for (kk, ll) in zip(p[n:], p_r[n:]):\n",
    "            \n",
    "            #DDR ===============================================================================\n",
    "            r12 = np.ones_like(p_r.T[0])*r[m]\n",
    "            \n",
    "            ss = ii-p_r # Diferencia entre el punto pivote y el punto en la muestra random \n",
    "            r13 = np.sqrt(ss[:,0]**2+ss[:,1]**2+ss[:,2]**2)\n",
    "            \n",
    "            ss = kk-p_r # Diferencia entre el punto 2 de los datos y el punto en la muestra random \n",
    "            r32 = np.sqrt(ss[:,0]**2+ss[:,1]**2+ss[:,2]**2)\n",
    "            \n",
    "            # Histogramas para DDR\n",
    "            dis, dim = np.histogramdd(np.array([r12,r13,r32]).T,bins = [bn,bn,bn], \n",
    "                                    range=[[0,point_max],[0,point_max],[0,point_max]])\n",
    "            NDDR = NDDR + dis\n",
    "            \n",
    "            #DRR ===============================================================================\n",
    "            r12 = np.ones_like(p.T[0])*r_ran[m]\n",
    "            \n",
    "            ss = jj-p # Diferencia entre el punto pivote random y el punto en los datos \n",
    "            r13 = np.sqrt(ss[:,0]**2+ss[:,1]**2+ss[:,2]**2)\n",
    "            \n",
    "            ss = ll-p # Diferencia entre el punto 2 de la muestra random y el punto en los datos \n",
    "            r32 = np.sqrt(ss[:,0]**2+ss[:,1]**2+ss[:,2]**2)\n",
    "            \n",
    "            # Histogramas para DRR\n",
    "            dis, dim = np.histogramdd(np.array([r12,r13,r32]).T,bins = [bn,bn,bn], \n",
    "                                    range=[[0,point_max],[0,point_max],[0,point_max]])\n",
    "            NDRR = NDRR + dis\n",
    "            \n",
    "            m = m+1\n",
    "    \n",
    "    DDR = NDDR\n",
    "    DRR = NDRR \n",
    "    \"\"\"\n",
    "    for i in range(bn - 2):\n",
    "        for j in range(i+1, bn-1):\n",
    "            for k in range(j+1,bn):\n",
    "                s = NDDR[i][j][k] + NDDR[j][i][k]+ NDDR[i][k][j]+ NDDR[j][k][i]+ NDDR[k][i][j]++ NDDR[k][j][i]\n",
    "                DDR[i][j][k] = s\n",
    "                DDR[i][k][j] = s\n",
    "                DDR[j][i][k] = s\n",
    "                DDR[j][k][i] = s\n",
    "                DDR[k][i][j] = s\n",
    "                DDR[k][j][i] = s\n",
    "        \n",
    "                s = NDRR[i][j][k] + NDRR[j][i][k]+ NDRR[i][k][j]+ NDRR[j][k][i]+ NDRR[k][i][j]++ NDRR[k][j][i]\n",
    "                DRR[i][j][k] = s\n",
    "                DRR[i][k][j] = s\n",
    "                DRR[j][i][k] = s\n",
    "                DRR[j][k][i] = s\n",
    "                DRR[k][i][j] = s\n",
    "                DRR[k][j][i] = s\n",
    "    \"\"\"\n",
    "    return DDR+DRR"
   ]
  },
  {
   "cell_type": "code",
   "execution_count": 296,
   "metadata": {},
   "outputs": [],
   "source": [
    "data = np.loadtxt('/home/echeveste/mis_trabajos/correlation_f/data/data_500.dat')[:,:3]\n",
    "rand = np.loadtxt('/home/echeveste/mis_trabajos/correlation_f/data/rand0_500.dat')[:,:3]"
   ]
  },
  {
   "cell_type": "code",
   "execution_count": 297,
   "metadata": {},
   "outputs": [
    {
     "data": {
      "text/plain": [
       "[0.0, 1.0, 2.0, 3.0, 4.0, 5.0, 6.0, 7.0, 8.0, 9.0]"
      ]
     },
     "execution_count": 297,
     "metadata": {},
     "output_type": "execute_result"
    }
   ],
   "source": [
    "Parallel(n_jobs=2)(delayed(math.sqrt)(i ** 2) for i in range(10))"
   ]
  },
  {
   "cell_type": "code",
   "execution_count": null,
   "metadata": {},
   "outputs": [],
   "source": []
  },
  {
   "cell_type": "code",
   "execution_count": 298,
   "metadata": {},
   "outputs": [],
   "source": [
    "#FUNCIÓN DE PARA HACER HISTOGRAMAS \n",
    "def Histos(data,bn,point_max,nuc):\n",
    "\n",
    "    XXX =  np.zeros((bn,bn,bn))\n",
    "    tam = len(data)\n",
    "    \n",
    "    #Hacemos una subdivición de los samples en el número de núcleos\n",
    "    p = sc.parallelize(np.split(data,[x for x in range(math.ceil(tam/nuc),tam,math.ceil(tam/nuc))])) \n",
    "    \n",
    "    #Sacamos los histogramas de los triangulos de casa subconjunto \n",
    "    XXX_1 = p.map(lambda x: dis_XXX(x,bn,point_max)).collect()\n",
    "    \n",
    "    for ii in XXX_1:\n",
    "        XXX = XXX+ii\n",
    "        \n",
    "    #Sacamos los histogramas de los triangulos entre los subconjuntos\n",
    "    \n",
    "    n = 0\n",
    "    for ii in p.collect()[:nuc-1]:\n",
    "        n = n+1\n",
    "        \n",
    "        #pool = mp.Pool(processes=len(p.collect()[n:]))      \n",
    "        #results = [pool.apply_async(dis_XY, args=(ii,jj,bn,point_max)) for jj in p.collect()[n:]]   \n",
    "        #output = [b.get() for b in results]\n",
    "        \n",
    "        results = Parallel(n_jobs=nuc)(delayed(dis_XXY)(ii,jj,bn,point_max) for jj in p.collect()[n:])\n",
    "        \n",
    "        print('---',len(results))\n",
    "        \n",
    "        for i in range(len(results)):\n",
    "            print(len(results)-i)\n",
    "            XXX = XXX + results[i]\n",
    "        print('===================================')                           \n",
    "    \n",
    "    return XXX"
   ]
  },
  {
   "cell_type": "code",
   "execution_count": 299,
   "metadata": {},
   "outputs": [],
   "source": [
    "sc.stop()"
   ]
  },
  {
   "cell_type": "code",
   "execution_count": 300,
   "metadata": {},
   "outputs": [
    {
     "name": "stdout",
     "output_type": "stream",
     "text": [
      "local[2]\n",
      "--- 1\n",
      "1\n",
      "===================================\n",
      "Finializó en 28.39 segundos\n",
      "\n"
     ]
    }
   ],
   "source": [
    "#Paralelizado\n",
    "nuc = 2\n",
    "\n",
    "sc = SparkContext(master='local[{0}]'.format(int(nuc)))\n",
    "print(sc.master)\n",
    "\n",
    "start = time.perf_counter()\n",
    "\n",
    "DDD = Histos(data,30,180,nuc)\n",
    "finish = time.perf_counter()\n",
    "\n",
    "sc.stop()\n",
    "print(f'Finializó en {round(finish-start,2)} segundos\\n')"
   ]
  },
  {
   "cell_type": "code",
   "execution_count": 292,
   "metadata": {},
   "outputs": [],
   "source": [
    "DDD_no = np.loadtxt('/home/echeveste/mis_trabajos/correlation_f/mis_datos/FB/all/DDD_iso_500_osc.dat').reshape(30,30,30)"
   ]
  },
  {
   "cell_type": "code",
   "execution_count": 301,
   "metadata": {},
   "outputs": [
    {
     "data": {
      "image/png": "[encoded data removed]",
      "text/plain": [
       "<Figure size 432x288 with 2 Axes>"
      ]
     },
     "metadata": {
      "needs_background": "light"
     },
     "output_type": "display_data"
    }
   ],
   "source": [
    "plt.imshow(DDD[10])\n",
    "cax=plt.colorbar()"
   ]
  },
  {
   "cell_type": "code",
   "execution_count": 281,
   "metadata": {},
   "outputs": [
    {
     "data": {
      "image/png": "[encoded data removed]",
      "text/plain": [
       "<Figure size 432x288 with 2 Axes>"
      ]
     },
     "metadata": {
      "needs_background": "light"
     },
     "output_type": "display_data"
    }
   ],
   "source": [
    "plt.imshow(DDD_no[10])\n",
    "cax=plt.colorbar()"
   ]
  },
  {
   "cell_type": "code",
   "execution_count": 283,
   "metadata": {},
   "outputs": [
    {
     "data": {
      "image/png": "[encoded data removed]",
      "text/plain": [
       "<Figure size 432x288 with 2 Axes>"
      ]
     },
     "metadata": {
      "needs_background": "light"
     },
     "output_type": "display_data"
    }
   ],
   "source": [
    "plt.imshow(DDD_no[10]-DDD[10],vmin=-500, vmax=500)\n",
    "cax=plt.colorbar()"
   ]
  },
  {
   "cell_type": "code",
   "execution_count": 245,
   "metadata": {},
   "outputs": [
    {
     "data": {
      "text/plain": [
       "array([[[  0.,   0.,   0., ...,   0.,   0.,   0.],\n",
       "        [  0.,   0.,   0., ...,   0.,   0.,   0.],\n",
       "        [  0.,   0.,   0., ...,   0.,   0.,   0.],\n",
       "        ...,\n",
       "        [  0.,   0.,   0., ...,   3.,   0.,   0.],\n",
       "        [  0.,   0.,   0., ...,   0.,  -1.,   0.],\n",
       "        [  0.,   0.,   0., ...,   0.,   0.,  18.]],\n",
       "\n",
       "       [[  0.,   0.,   0., ...,   0.,   0.,   0.],\n",
       "        [  0.,   0.,   0., ...,   0.,   0.,   0.],\n",
       "        [  0.,  -1.,   3., ...,   0.,   0.,   0.],\n",
       "        ...,\n",
       "        [  0.,   0.,   0., ...,  17.,   0.,   0.],\n",
       "        [  0.,   0.,   0., ...,   0.,  22.,   0.],\n",
       "        [  0.,   0.,   0., ...,   0.,   0.,  14.]],\n",
       "\n",
       "       [[  0.,   0.,  -2., ...,   0.,   0.,   0.],\n",
       "        [  0.,   1.,  -1., ...,   0.,   0.,   0.],\n",
       "        [  2.,  -2.,   0., ...,   0.,   0.,   0.],\n",
       "        ...,\n",
       "        [  0.,   0.,   0., ...,  22.,   0.,   0.],\n",
       "        [  0.,   0.,   0., ...,   0.,   2.,   0.],\n",
       "        [  0.,   0.,   0., ...,   0.,   0.,  17.]],\n",
       "\n",
       "       ...,\n",
       "\n",
       "       [[  0.,   0.,   0., ...,   8.,   0.,   0.],\n",
       "        [  0.,   0.,   0., ...,  -7.,   0.,   0.],\n",
       "        [  0.,   0.,   0., ...,   0.,   0.,   0.],\n",
       "        ...,\n",
       "        [-11., -10., -22., ...,   0.,   0.,   5.],\n",
       "        [  0.,   0.,   0., ...,   6.,  36.,   0.],\n",
       "        [  0.,   0.,   0., ..., -22.,   0.,  -5.]],\n",
       "\n",
       "       [[  0.,   0.,   0., ...,   0.,  18.,   0.],\n",
       "        [  0.,   0.,   0., ...,   0., -14.,   0.],\n",
       "        [  0.,   0.,   0., ...,   0.,  10.,   0.],\n",
       "        ...,\n",
       "        [  0.,   0.,   0., ...,  -6.,  12.,   0.],\n",
       "        [-17.,  -8., -12., ..., -48.,   0.,  12.],\n",
       "        [  0.,   0.,   0., ...,   0., -29., -23.]],\n",
       "\n",
       "       [[  0.,   0.,   0., ...,   0.,   0.,  -3.],\n",
       "        [  0.,   0.,   0., ...,   0.,   0., -17.],\n",
       "        [  0.,   0.,   0., ...,   0.,   0.,  -6.],\n",
       "        ...,\n",
       "        [  0.,   0.,   0., ...,  17.,   0.,   7.],\n",
       "        [  0.,   0.,   0., ...,   0.,  17.,  -4.],\n",
       "        [-15.,   3., -11., ...,  -2.,  27.,   0.]]])"
      ]
     },
     "execution_count": 245,
     "metadata": {},
     "output_type": "execute_result"
    }
   ],
   "source": [
    "DDD_no-DDD"
   ]
  },
  {
   "cell_type": "code",
   "execution_count": null,
   "metadata": {},
   "outputs": [],
   "source": []
  }
 ],
 "metadata": {
  "kernelspec": {
   "display_name": "Python 3",
   "language": "python",
   "name": "python3"
  },
  "language_info": {
   "codemirror_mode": {
    "name": "ipython",
    "version": 3
   },
   "file_extension": ".py",
   "mimetype": "text/x-python",
   "name": "python",
   "nbconvert_exporter": "python",
   "pygments_lexer": "ipython3",
   "version": "3.8.2"
  }
 },
 "nbformat": 4,
 "nbformat_minor": 4
}
