{
 "cells": [
  {
   "cell_type": "code",
   "execution_count": 1,
   "metadata": {},
   "outputs": [],
   "source": [
    "from mpl_toolkits.mplot3d import Axes3D         # Cargo Axes3D de mpl_toolkits.mplot3d\n",
    "import matplotlib.pyplot as plt\n",
    "import numpy as np\n",
    "import random\n",
    "import time\n",
    "import pandas as pd\n",
    "from matplotlib import animation\n",
    "import sys \n",
    "import math\n",
    "%matplotlib inline"
   ]
  },
  {
   "cell_type": "code",
   "execution_count": 2,
   "metadata": {},
   "outputs": [],
   "source": [
    "#Libreria para programar en parallelo\n",
    "from pyspark import SparkContext\n",
    "import multiprocessing as mp"
   ]
  },
  {
   "cell_type": "code",
   "execution_count": 3,
   "metadata": {},
   "outputs": [],
   "source": [
    "#Trabajamos con 2 nucleos\n",
    "nuc = 2\n",
    "#sc=SparkContext(master=\"local[2]\")\n",
    "sc = SparkContext(master='local[2]')"
   ]
  },
  {
   "cell_type": "code",
   "execution_count": 4,
   "metadata": {},
   "outputs": [
    {
     "data": {
      "text/html": [
       "\n",
       "        <div>\n",
       "            <p><b>SparkContext</b></p>\n",
       "\n",
       "            <p><a href=\"http://localhost:4040\">Spark UI</a></p>\n",
       "\n",
       "            <dl>\n",
       "              <dt>Version</dt>\n",
       "                <dd><code>v3.0.0</code></dd>\n",
       "              <dt>Master</dt>\n",
       "                <dd><code>local[2]</code></dd>\n",
       "              <dt>AppName</dt>\n",
       "                <dd><code>pyspark-shell</code></dd>\n",
       "            </dl>\n",
       "        </div>\n",
       "        "
      ],
      "text/plain": [
       "<SparkContext master=local[2] appName=pyspark-shell>"
      ]
     },
     "execution_count": 4,
     "metadata": {},
     "output_type": "execute_result"
    }
   ],
   "source": [
    "sc"
   ]
  },
  {
   "cell_type": "code",
   "execution_count": 5,
   "metadata": {},
   "outputs": [],
   "source": [
    "data = np.loadtxt('/home/echeveste/mis_trabajos/correlation_f/data/data_500.dat')[:,:3]\n",
    "rand = np.loadtxt('/home/echeveste/mis_trabajos/correlation_f/data/rand0_500.dat')[:,:3]\n",
    "\n",
    "data_rand = sc.parallelize(np.split(np.concatenate((data, rand)),2))"
   ]
  },
  {
   "cell_type": "code",
   "execution_count": null,
   "metadata": {},
   "outputs": [],
   "source": []
  },
  {
   "cell_type": "code",
   "execution_count": 6,
   "metadata": {},
   "outputs": [],
   "source": [
    "def dis_XX(p,bn,point_max):\n",
    "    \"\"\" \n",
    "    Función para construir los histogramas \n",
    "    \n",
    "    p = datos\n",
    "    bn = tamaño de bins\n",
    "    point_max = punto máximo en el histograma\n",
    "    \n",
    "    \"\"\"\n",
    "    \n",
    "    #Inicializamos los arreglos de los histogramas\n",
    "    NDDD = np.zeros((bn,bn,bn))\n",
    "    \n",
    "    # =========================================================================================== \n",
    "    \n",
    "    n = 0\n",
    "    for (ii) in zip(p):\n",
    "        n = n+1\n",
    "        \n",
    "        s = ii-p[n:] # Diferencia entre el punto pivote y los demas puntos siguientes \n",
    "        r = np.sqrt(s[:,0]**2+s[:,1]**2+s[:,2]**2)\n",
    "        \n",
    "        m = 0\n",
    "        for (kk) in zip(p[n:]):\n",
    "            \n",
    "            #DDD ===============================================================================\n",
    "            r12 = np.ones_like(r[m+1:])*r[m]\n",
    "            r13 = r[m+1:]\n",
    "        \n",
    "            ss = kk-p[n:][m+1:] # Diferencia entre el punto pivote y los demas puntos siguientes \n",
    "            r32 = np.sqrt(ss[:,0]**2+ss[:,1]**2+ss[:,2]**2)\n",
    "        \n",
    "            # Histogramas para DDD\n",
    "            dis, dim = np.histogramdd(np.array([r12,r13,r32]).T,bins = [bn,bn,bn], \n",
    "                                    range=[[0,point_max],[0,point_max],[0,point_max]])\n",
    "            NDDD = NDDD + dis\n",
    "            \n",
    "            m = m+1\n",
    "    \n",
    "    return NDDD"
   ]
  },
  {
   "cell_type": "code",
   "execution_count": 7,
   "metadata": {},
   "outputs": [],
   "source": [
    "def dis_XY(p,p_r,bn,point_max):\n",
    "    \n",
    "    NDDR = np.zeros((bn,bn,bn))\n",
    "    NDRR = np.zeros((bn,bn,bn))\n",
    "    \n",
    "    n = 0\n",
    "    for (ii, jj) in zip(p, p_r):\n",
    "        n = n+1\n",
    "        \n",
    "        s = ii-p[n:] # Diferencia entre el punto pivote y los demas puntos siguientes \n",
    "        r = np.sqrt(s[:,0]**2+s[:,1]**2+s[:,2]**2)\n",
    "        \n",
    "        s_ran = jj-p_r[n:] # Diferencia entre el punto pivote y los demas puntos siguientes \n",
    "        r_ran = np.sqrt(s_ran[:,0]**2+s_ran[:,1]**2+s_ran[:,2]**2)\n",
    "        \n",
    "        m = 0\n",
    "        for (kk, ll) in zip(p[n:], p_r[n:]):\n",
    "            #DDR ===============================================================================\n",
    "            r12 = np.ones_like(p_r.T[0])*r[m]\n",
    "            \n",
    "            ss = ii-p_r # Diferencia entre el punto pivote y el punto en la muestra random \n",
    "            r13 = np.sqrt(ss[:,0]**2+ss[:,1]**2+ss[:,2]**2)\n",
    "            \n",
    "            ss = kk-p_r # Diferencia entre el punto 2 de los datos y el punto en la muestra random \n",
    "            r32 = np.sqrt(ss[:,0]**2+ss[:,1]**2+ss[:,2]**2)\n",
    "            \n",
    "            # Histogramas para DDR\n",
    "            dis, dim = np.histogramdd(np.array([r12,r13,r32]).T,bins = [bn,bn,bn], \n",
    "                                    range=[[0,point_max],[0,point_max],[0,point_max]])\n",
    "            NDDR = NDDR + dis\n",
    "            \n",
    "            #DRR ===============================================================================\n",
    "            r12 = np.ones_like(p.T[0])*r_ran[m]\n",
    "            \n",
    "            ss = jj-p # Diferencia entre el punto pivote random y el punto en los datos \n",
    "            r13 = np.sqrt(ss[:,0]**2+ss[:,1]**2+ss[:,2]**2)\n",
    "            \n",
    "            ss = ll-p # Diferencia entre el punto 2 de la muestra random y el punto en los datos \n",
    "            r32 = np.sqrt(ss[:,0]**2+ss[:,1]**2+ss[:,2]**2)\n",
    "            \n",
    "            # Histogramas para DRR\n",
    "            dis, dim = np.histogramdd(np.array([r12,r13,r32]).T,bins = [bn,bn,bn], \n",
    "                                    range=[[0,point_max],[0,point_max],[0,point_max]])\n",
    "            NDRR = NDRR + dis\n",
    "            \n",
    "            m = m+1\n",
    "\n",
    "    return NDDR,NDRR"
   ]
  },
  {
   "cell_type": "code",
   "execution_count": 32,
   "metadata": {},
   "outputs": [],
   "source": [
    "#FUNCIÓN DE PARA HACER HISTOGRAMAS \n",
    "def Histos(data,bn,point_max,nuc):\n",
    "    \"\"\" \n",
    "    Función para construir los histogramas \n",
    "    \n",
    "    p = datos\n",
    "    bn = tamaño de bins\n",
    "    point_max = punto máximo en el histograma\n",
    "    \n",
    "    \"\"\"\n",
    "\n",
    "    XXX =  np.zeros((bn,bn,bn))\n",
    "    tam = len(data)\n",
    "    \n",
    "    #Hacemos una subdivición de los samples en el número de núcleos\n",
    "    p = sc.parallelize(np.split(data,[x for x in range(math.ceil(tam/nuc),tam,math.ceil(tam/nuc))])) \n",
    "    \n",
    "    #Sacamos los histogramas de los triangulos de casa subconjunto \n",
    "    XXX_1 = p.map(lambda x: dis_XX(x,bn,point_max)).collect()\n",
    "    \n",
    "    for ii in XXX_1:\n",
    "        XXX = XXX+ii\n",
    "        \n",
    "    #Sacamos los histogramas de los triangulos entre los subconjuntos\n",
    "    #print(XXX_1)\n",
    "    #print('===================================')\n",
    "    n = 0\n",
    "    for ii in p.collect()[:nuc-1]:\n",
    "        n = n+1\n",
    "        \n",
    "        pool = mp.Pool(processes=len(p.collect()[n:]))      \n",
    "        results = [pool.apply_async(dis_XY, args=(ii,jj,bn,point_max)) for jj in p.collect()[n:]]   \n",
    "        output = [b.get() for b in results]\n",
    "        print(len(output))\n",
    "        print('===================================')\n",
    "        for i in range(len(output)):\n",
    "            XXX = XXX + output[i][0] + output[i][1]\n",
    "\n",
    "    return XXX"
   ]
  },
  {
   "cell_type": "code",
   "execution_count": 33,
   "metadata": {},
   "outputs": [
    {
     "name": "stdout",
     "output_type": "stream",
     "text": [
      "local[4]\n",
      "3\n",
      "===================================\n",
      "2\n",
      "===================================\n",
      "1\n",
      "===================================\n",
      "Finializó en 23.1 segundos\n",
      "\n"
     ]
    }
   ],
   "source": [
    "#Paralelizado\n",
    "start = time.perf_counter()\n",
    "\n",
    "nuc = 4\n",
    "\n",
    "sc.stop()\n",
    "sc = SparkContext(master='local[{0}]'.format(int(nuc)))\n",
    "print(sc.master)\n",
    "\n",
    "DDD = Histos(data,30,180,nuc)\n",
    "finish = time.perf_counter()\n",
    "\n",
    "print(f'Finializó en {round(finish-start,2)} segundos\\n')"
   ]
  },
  {
   "cell_type": "code",
   "execution_count": 34,
   "metadata": {},
   "outputs": [
    {
     "ename": "AttributeError",
     "evalue": "'numpy.ndarray' object has no attribute 'get'",
     "output_type": "error",
     "traceback": [
      "\u001b[0;31m--------------------------------------------------------------------------\u001b[0m",
      "\u001b[0;31mAttributeError\u001b[0m                           Traceback (most recent call last)",
      "\u001b[0;32m<ipython-input-34-5d00467fb73e>\u001b[0m in \u001b[0;36m<module>\u001b[0;34m\u001b[0m\n\u001b[0;32m----> 1\u001b[0;31m \u001b[0mDDD\u001b[0m\u001b[0;34m[\u001b[0m\u001b[0;36m0\u001b[0m\u001b[0;34m]\u001b[0m\u001b[0;34m.\u001b[0m\u001b[0mget\u001b[0m\u001b[0;34m(\u001b[0m\u001b[0;34m)\u001b[0m\u001b[0;34m\u001b[0m\u001b[0;34m\u001b[0m\u001b[0m\n\u001b[0m",
      "\u001b[0;31mAttributeError\u001b[0m: 'numpy.ndarray' object has no attribute 'get'"
     ]
    }
   ],
   "source": [
    "DDD[0].get()"
   ]
  },
  {
   "cell_type": "code",
   "execution_count": 35,
   "metadata": {},
   "outputs": [
    {
     "data": {
      "image/png": "[encoded data removed]",
      "text/plain": [
       "<Figure size 432x288 with 2 Axes>"
      ]
     },
     "metadata": {
      "needs_background": "light"
     },
     "output_type": "display_data"
    }
   ],
   "source": [
    "plt.imshow(DDD[10])\n",
    "cax=plt.colorbar()"
   ]
  },
  {
   "cell_type": "code",
   "execution_count": null,
   "metadata": {},
   "outputs": [],
   "source": []
  },
  {
   "cell_type": "code",
   "execution_count": null,
   "metadata": {},
   "outputs": [],
   "source": []
  },
  {
   "cell_type": "code",
   "execution_count": null,
   "metadata": {},
   "outputs": [],
   "source": []
  },
  {
   "cell_type": "code",
   "execution_count": 28,
   "metadata": {},
   "outputs": [
    {
     "data": {
      "text/plain": [
       "array([[1.03752487e+02, 2.43126556e+02, 1.87786346e+02],\n",
       "       [7.33624040e+01, 4.91394500e+01, 1.11009155e+02],\n",
       "       [2.29819611e+02, 1.56321869e+02, 1.24974083e+02],\n",
       "       [1.62194611e+02, 2.39083023e+02, 9.23825450e+01],\n",
       "       [1.70629440e+02, 1.31974167e+02, 2.39027939e+02],\n",
       "       [1.04319336e+02, 2.37442108e+02, 1.94095596e+02],\n",
       "       [8.84048080e+01, 1.51310303e+02, 2.06816299e+02],\n",
       "       [2.05245010e+02, 6.90782850e+01, 8.81324310e+01],\n",
       "       [5.12894970e+01, 7.40727460e+01, 4.37923970e+01],\n",
       "       [1.25981033e+02, 1.39976501e+02, 4.79803700e+01],\n",
       "       [1.73809982e+02, 4.56609190e+01, 1.05352501e+02],\n",
       "       [2.30068344e+02, 2.31861603e+02, 1.22900887e+02],\n",
       "       [8.72935410e+01, 1.43003403e+02, 7.63205950e+01],\n",
       "       [1.45222290e+01, 2.32926605e+02, 1.68616211e+02],\n",
       "       [6.65628590e+01, 1.39607407e+02, 1.25251724e+02],\n",
       "       [1.68134650e+01, 5.12482830e+01, 1.13697899e+02],\n",
       "       [1.40126587e+02, 5.48707600e+00, 4.89443900e+00],\n",
       "       [1.70635190e+01, 1.63401978e+02, 2.43613037e+02],\n",
       "       [1.44295990e+02, 1.46412369e+02, 2.29552841e+02],\n",
       "       [1.22420944e+02, 6.02736280e+01, 7.20796590e+01],\n",
       "       [7.26591600e+00, 1.60820526e+02, 2.72553160e+01],\n",
       "       [1.82918503e+02, 1.79299973e+02, 1.84946228e+02],\n",
       "       [9.99696880e+01, 1.95868683e+02, 1.13808533e+02],\n",
       "       [3.93913420e+01, 2.46220184e+02, 2.20513824e+02],\n",
       "       [1.79180847e+02, 2.75052620e+01, 2.37238007e+02],\n",
       "       [8.91859970e+01, 2.10139664e+02, 5.28964390e+01],\n",
       "       [1.96688522e+02, 1.38798508e+02, 7.43064040e+01],\n",
       "       [7.00718000e+01, 2.10999527e+02, 8.11110150e+01],\n",
       "       [3.84231300e+01, 2.09511719e+02, 1.36319962e+02],\n",
       "       [2.38909042e+02, 7.54343260e+01, 1.16376030e+02],\n",
       "       [1.06306854e+02, 5.65893860e+01, 2.28122437e+02],\n",
       "       [1.64039795e+02, 1.58940170e+02, 2.99955350e+01],\n",
       "       [2.46702980e+01, 5.54043120e+01, 2.29282211e+02],\n",
       "       [2.16683792e+02, 6.93710250e+01, 1.69690765e+02],\n",
       "       [2.39614380e+02, 2.48260895e+02, 3.24985120e+01],\n",
       "       [1.41286865e+02, 1.07720345e+02, 2.45691742e+02],\n",
       "       [1.15699600e+02, 2.48665558e+02, 6.87676700e+01],\n",
       "       [1.31476791e+02, 1.28886658e+02, 1.45394516e+02],\n",
       "       [2.15154205e+02, 1.66118240e+02, 1.77786560e+02],\n",
       "       [1.25215698e+02, 1.25370781e+02, 1.74080597e+02],\n",
       "       [1.31692230e+02, 5.56614190e+01, 2.34085846e+02],\n",
       "       [1.75665820e+01, 2.37577133e+02, 2.07465546e+02],\n",
       "       [2.23428460e+01, 1.06785316e+02, 2.45113022e+02],\n",
       "       [1.38498917e+02, 1.72915512e+02, 1.38102966e+02],\n",
       "       [2.22283005e+02, 1.03193985e+02, 4.91099360e+01],\n",
       "       [4.60704650e+01, 9.53879240e+01, 7.98439940e+01],\n",
       "       [1.13156937e+02, 2.38460175e+02, 1.33141342e+02],\n",
       "       [8.11333690e+01, 2.18545959e+02, 1.75260071e+02],\n",
       "       [1.71168015e+02, 3.44648970e+01, 6.01318360e+01],\n",
       "       [1.53258362e+02, 9.26179580e+01, 7.35708160e+01],\n",
       "       [2.26223480e+02, 5.56475200e+00, 1.92151398e+02],\n",
       "       [1.34448013e+02, 1.31853302e+02, 1.64906036e+02],\n",
       "       [1.42176376e+02, 2.24922394e+02, 2.04060577e+02],\n",
       "       [1.59073761e+02, 1.05150368e+02, 7.69290850e+01],\n",
       "       [2.41475433e+02, 5.30000650e+01, 1.38724838e+02],\n",
       "       [1.11009102e+02, 2.20947327e+02, 4.21528850e+01],\n",
       "       [1.42526001e+02, 1.12032860e+02, 1.09973660e+01],\n",
       "       [1.31926514e+02, 1.90072281e+02, 6.95926970e+01],\n",
       "       [1.51592941e+02, 1.64977753e+02, 1.05214417e+02],\n",
       "       [9.66478880e+01, 2.47690720e+02, 2.17713211e+02],\n",
       "       [1.75526703e+02, 9.99695510e+01, 6.46750560e+01],\n",
       "       [8.15928730e+01, 1.47003810e+01, 4.66177700e+00],\n",
       "       [9.36366730e+01, 2.46443192e+02, 5.03975750e+01],\n",
       "       [1.75532516e+02, 1.77390625e+02, 1.10915260e+02],\n",
       "       [1.89149017e+02, 9.68335570e+01, 5.07895010e+01],\n",
       "       [1.18602921e+02, 6.72084500e+01, 1.00084198e+02],\n",
       "       [2.30826904e+02, 6.64832900e+00, 2.20068436e+02],\n",
       "       [7.93430790e+01, 1.42767548e+02, 1.88603333e+02],\n",
       "       [1.52871994e+02, 1.87179510e+01, 1.53850006e+02],\n",
       "       [9.17102430e+01, 2.63834700e+00, 1.72591171e+02],\n",
       "       [2.84367830e+01, 6.07233660e+01, 2.30770325e+02],\n",
       "       [4.35586930e+01, 2.14568909e+02, 1.13258377e+02],\n",
       "       [8.68042910e+01, 2.28275635e+02, 7.54241330e+01],\n",
       "       [1.47302032e+02, 5.63332820e+01, 1.98538177e+02],\n",
       "       [1.14276100e+02, 8.92701950e+01, 2.43208267e+02],\n",
       "       [1.95774429e+02, 1.06962097e+02, 1.27381462e+02],\n",
       "       [5.97514080e+01, 5.88681340e+01, 1.29592422e+02],\n",
       "       [2.08969299e+02, 9.72757110e+01, 2.02828766e+02],\n",
       "       [2.11810394e+02, 1.44790390e+02, 1.90932785e+02],\n",
       "       [7.19202730e+01, 8.32992170e+01, 1.79716522e+02],\n",
       "       [2.17708832e+02, 1.12427376e+02, 9.63369980e+01],\n",
       "       [1.49231796e+02, 1.53776840e+02, 2.38893188e+02],\n",
       "       [1.27779655e+02, 2.24154720e+01, 1.25396011e+02],\n",
       "       [1.16070549e+02, 1.48212769e+02, 8.64248810e+01],\n",
       "       [1.90909668e+02, 2.44605347e+02, 9.01579210e+01],\n",
       "       [8.21673510e+01, 1.99679764e+02, 1.38781342e+02],\n",
       "       [1.25943733e+02, 1.11215126e+02, 2.00484421e+02],\n",
       "       [3.72203180e+01, 8.51203380e+01, 1.02568611e+02],\n",
       "       [1.51118988e+02, 1.89228180e+02, 1.79191528e+02],\n",
       "       [4.84361460e+01, 6.91366000e+00, 1.13926765e+02],\n",
       "       [7.87216030e+01, 2.48989471e+02, 1.18489182e+02],\n",
       "       [1.57155029e+02, 2.29340530e+02, 1.36830215e+02],\n",
       "       [5.62645030e+01, 1.94944519e+02, 2.32268982e+02],\n",
       "       [5.48765400e+00, 1.89806335e+02, 1.47833878e+02],\n",
       "       [1.41964447e+02, 1.29552094e+02, 1.80507553e+02],\n",
       "       [1.24118904e+02, 2.10045990e+02, 4.71218800e+01],\n",
       "       [1.50909409e+02, 7.00341100e+00, 1.85822600e+00],\n",
       "       [2.56478750e+01, 6.41998980e+01, 2.31284000e-01],\n",
       "       [3.47037430e+01, 1.20538712e+02, 1.51442398e+02],\n",
       "       [7.55915370e+01, 4.72342610e+01, 7.85096820e+01],\n",
       "       [5.79859200e+01, 1.75066711e+02, 1.53563400e+02],\n",
       "       [1.60184921e+02, 9.63106690e+01, 8.56896060e+01],\n",
       "       [2.41353714e+02, 2.49326248e+02, 3.03803650e+01],\n",
       "       [1.78544785e+02, 7.89388280e+01, 5.93271060e+01],\n",
       "       [2.23489853e+02, 2.04794067e+02, 1.95762436e+02],\n",
       "       [2.34778336e+02, 1.78811981e+02, 1.51415726e+02],\n",
       "       [1.39092819e+02, 4.49667820e+01, 1.61374359e+02],\n",
       "       [9.48215030e+01, 2.10719681e+02, 5.69322400e+00],\n",
       "       [1.34568954e+02, 1.18190437e+02, 2.26873672e+02],\n",
       "       [7.83485490e+01, 1.48196426e+02, 8.47108380e+01],\n",
       "       [8.10988770e+01, 1.46732071e+02, 8.23005680e+01],\n",
       "       [1.56590958e+02, 1.45742706e+02, 2.37600784e+02],\n",
       "       [1.74000870e+02, 2.82149010e+01, 2.40444656e+02],\n",
       "       [1.88775299e+02, 2.11205124e+02, 2.03065094e+02],\n",
       "       [1.12984253e+02, 1.64180801e+02, 1.55243660e+01],\n",
       "       [1.54602783e+02, 1.62449219e+02, 4.66151810e+01],\n",
       "       [1.48595413e+02, 1.17095894e+02, 1.08411942e+02],\n",
       "       [2.41330536e+02, 5.14337010e+01, 3.60497700e+00],\n",
       "       [1.45369370e+02, 8.05734940e+01, 1.23466888e+02],\n",
       "       [2.32180670e+01, 1.36519852e+02, 1.65111191e+02],\n",
       "       [2.01773743e+02, 9.65808640e+01, 1.44231842e+02],\n",
       "       [1.58464020e+02, 1.20872665e+02, 1.41627502e+02],\n",
       "       [7.36028600e+00, 1.33205917e+02, 5.15541190e+01],\n",
       "       [1.03177902e+02, 1.46936539e+02, 4.79827690e+01],\n",
       "       [8.90968090e+01, 1.14173790e+02, 1.29317276e+02]])"
      ]
     },
     "execution_count": 28,
     "metadata": {},
     "output_type": "execute_result"
    }
   ],
   "source": [
    "p.glom().collect()[:2][0][0]"
   ]
  },
  {
   "cell_type": "code",
   "execution_count": null,
   "metadata": {},
   "outputs": [],
   "source": []
  },
  {
   "cell_type": "code",
   "execution_count": null,
   "metadata": {},
   "outputs": [],
   "source": []
  },
  {
   "cell_type": "code",
   "execution_count": 16,
   "metadata": {},
   "outputs": [],
   "source": [
    "n = len(data)\n",
    "nuc = 4\n",
    "sc.stop()\n",
    "#sc=SparkContext(master=\"local[2]\")\n",
    "sc = SparkContext(master='local[{0}]'.format(int(nuc)))\n",
    "p = sc.parallelize(np.split(data,[x for x in range(math.ceil(n/nuc),n,math.ceil(n/nuc))]))"
   ]
  },
  {
   "cell_type": "code",
   "execution_count": 367,
   "metadata": {},
   "outputs": [],
   "source": [
    "ss  = p.map(lambda x: dis_XX(x,30,180)).collect()"
   ]
  },
  {
   "cell_type": "code",
   "execution_count": 382,
   "metadata": {},
   "outputs": [
    {
     "name": "stdout",
     "output_type": "stream",
     "text": [
      "249\n",
      "248\n",
      "247\n",
      "246\n",
      "245\n",
      "244\n",
      "243\n",
      "242\n",
      "241\n",
      "240\n",
      "239\n",
      "238\n",
      "237\n",
      "236\n",
      "235\n",
      "234\n",
      "233\n",
      "232\n",
      "231\n",
      "230\n",
      "229\n",
      "228\n",
      "227\n",
      "226\n",
      "225\n",
      "224\n",
      "223\n",
      "222\n",
      "221\n",
      "220\n",
      "219\n",
      "218\n",
      "217\n",
      "216\n",
      "215\n",
      "214\n"
     ]
    },
    {
     "ename": "KeyboardInterrupt",
     "evalue": "",
     "output_type": "error",
     "traceback": [
      "\u001b[0;31m---------------------------------------------------------------------------\u001b[0m",
      "\u001b[0;31mKeyboardInterrupt\u001b[0m                         Traceback (most recent call last)",
      "\u001b[0;32m<ipython-input-382-222d55f84c6c>\u001b[0m in \u001b[0;36m<module>\u001b[0;34m\u001b[0m\n\u001b[0;32m----> 1\u001b[0;31m \u001b[0motro_ss\u001b[0m \u001b[0;34m=\u001b[0m \u001b[0mdis_XY\u001b[0m\u001b[0;34m(\u001b[0m\u001b[0mp\u001b[0m\u001b[0;34m.\u001b[0m\u001b[0mcollect\u001b[0m\u001b[0;34m(\u001b[0m\u001b[0;34m)\u001b[0m\u001b[0;34m[\u001b[0m\u001b[0;36m0\u001b[0m\u001b[0;34m]\u001b[0m\u001b[0;34m,\u001b[0m\u001b[0mp\u001b[0m\u001b[0;34m.\u001b[0m\u001b[0mcollect\u001b[0m\u001b[0;34m(\u001b[0m\u001b[0;34m)\u001b[0m\u001b[0;34m[\u001b[0m\u001b[0;36m1\u001b[0m\u001b[0;34m]\u001b[0m\u001b[0;34m,\u001b[0m\u001b[0;36m30\u001b[0m\u001b[0;34m,\u001b[0m\u001b[0;36m180\u001b[0m\u001b[0;34m)\u001b[0m\u001b[0;34m\u001b[0m\u001b[0;34m\u001b[0m\u001b[0m\n\u001b[0m",
      "\u001b[0;32m<ipython-input-381-3db0adda382c>\u001b[0m in \u001b[0;36mdis_XY\u001b[0;34m(p, p_r, bn, point_max)\u001b[0m\n\u001b[1;32m     31\u001b[0m \u001b[0;34m\u001b[0m\u001b[0m\n\u001b[1;32m     32\u001b[0m             \u001b[0;31m#DRR ===============================================================================\u001b[0m\u001b[0;34m\u001b[0m\u001b[0;34m\u001b[0m\u001b[0;34m\u001b[0m\u001b[0m\n\u001b[0;32m---> 33\u001b[0;31m             \u001b[0mr12\u001b[0m \u001b[0;34m=\u001b[0m \u001b[0mnp\u001b[0m\u001b[0;34m.\u001b[0m\u001b[0mones_like\u001b[0m\u001b[0;34m(\u001b[0m\u001b[0mp\u001b[0m\u001b[0;34m.\u001b[0m\u001b[0mT\u001b[0m\u001b[0;34m[\u001b[0m\u001b[0;36m0\u001b[0m\u001b[0;34m]\u001b[0m\u001b[0;34m)\u001b[0m\u001b[0;34m*\u001b[0m\u001b[0mr_ran\u001b[0m\u001b[0;34m[\u001b[0m\u001b[0mm\u001b[0m\u001b[0;34m]\u001b[0m\u001b[0;34m\u001b[0m\u001b[0;34m\u001b[0m\u001b[0m\n\u001b[0m\u001b[1;32m     34\u001b[0m \u001b[0;34m\u001b[0m\u001b[0m\n\u001b[1;32m     35\u001b[0m             \u001b[0mss\u001b[0m \u001b[0;34m=\u001b[0m \u001b[0mjj\u001b[0m\u001b[0;34m-\u001b[0m\u001b[0mp\u001b[0m \u001b[0;31m# Diferencia entre el punto pivote random y el punto en los datos\u001b[0m\u001b[0;34m\u001b[0m\u001b[0;34m\u001b[0m\u001b[0m\n",
      "\u001b[0;32m<__array_function__ internals>\u001b[0m in \u001b[0;36mones_like\u001b[0;34m(*args, **kwargs)\u001b[0m\n",
      "\u001b[0;32m/usr/local/lib/python3.8/dist-packages/numpy/core/numeric.py\u001b[0m in \u001b[0;36mones_like\u001b[0;34m(a, dtype, order, subok, shape)\u001b[0m\n\u001b[1;32m    261\u001b[0m \u001b[0;34m\u001b[0m\u001b[0m\n\u001b[1;32m    262\u001b[0m     \"\"\"\n\u001b[0;32m--> 263\u001b[0;31m     \u001b[0mres\u001b[0m \u001b[0;34m=\u001b[0m \u001b[0mempty_like\u001b[0m\u001b[0;34m(\u001b[0m\u001b[0ma\u001b[0m\u001b[0;34m,\u001b[0m \u001b[0mdtype\u001b[0m\u001b[0;34m=\u001b[0m\u001b[0mdtype\u001b[0m\u001b[0;34m,\u001b[0m \u001b[0morder\u001b[0m\u001b[0;34m=\u001b[0m\u001b[0morder\u001b[0m\u001b[0;34m,\u001b[0m \u001b[0msubok\u001b[0m\u001b[0;34m=\u001b[0m\u001b[0msubok\u001b[0m\u001b[0;34m,\u001b[0m \u001b[0mshape\u001b[0m\u001b[0;34m=\u001b[0m\u001b[0mshape\u001b[0m\u001b[0;34m)\u001b[0m\u001b[0;34m\u001b[0m\u001b[0;34m\u001b[0m\u001b[0m\n\u001b[0m\u001b[1;32m    264\u001b[0m     \u001b[0mmultiarray\u001b[0m\u001b[0;34m.\u001b[0m\u001b[0mcopyto\u001b[0m\u001b[0;34m(\u001b[0m\u001b[0mres\u001b[0m\u001b[0;34m,\u001b[0m \u001b[0;36m1\u001b[0m\u001b[0;34m,\u001b[0m \u001b[0mcasting\u001b[0m\u001b[0;34m=\u001b[0m\u001b[0;34m'unsafe'\u001b[0m\u001b[0;34m)\u001b[0m\u001b[0;34m\u001b[0m\u001b[0;34m\u001b[0m\u001b[0m\n\u001b[1;32m    265\u001b[0m     \u001b[0;32mreturn\u001b[0m \u001b[0mres\u001b[0m\u001b[0;34m\u001b[0m\u001b[0;34m\u001b[0m\u001b[0m\n",
      "\u001b[0;32m<__array_function__ internals>\u001b[0m in \u001b[0;36mempty_like\u001b[0;34m(*args, **kwargs)\u001b[0m\n",
      "\u001b[0;31mKeyboardInterrupt\u001b[0m: "
     ]
    },
    {
     "name": "stderr",
     "output_type": "stream",
     "text": [
      "Process ForkPoolWorker-1544:\n",
      "Traceback (most recent call last):\n",
      "  File \"/usr/lib/python3.8/multiprocessing/process.py\", line 315, in _bootstrap\n",
      "    self.run()\n",
      "  File \"/usr/lib/python3.8/multiprocessing/process.py\", line 108, in run\n",
      "    self._target(*self._args, **self._kwargs)\n",
      "  File \"/usr/lib/python3.8/multiprocessing/pool.py\", line 114, in worker\n",
      "    task = get()\n",
      "  File \"/usr/lib/python3.8/multiprocessing/queues.py\", line 356, in get\n",
      "    res = self._reader.recv_bytes()\n",
      "  File \"/usr/lib/python3.8/multiprocessing/connection.py\", line 216, in recv_bytes\n",
      "    buf = self._recv_bytes(maxlength)\n",
      "  File \"/usr/lib/python3.8/multiprocessing/connection.py\", line 414, in _recv_bytes\n",
      "    buf = self._recv(4)\n",
      "  File \"/usr/lib/python3.8/multiprocessing/connection.py\", line 379, in _recv\n",
      "    chunk = read(handle, remaining)\n",
      "KeyboardInterrupt\n"
     ]
    }
   ],
   "source": [
    "otro_ss = dis_XY(p.collect()[0],p.collect()[1],30,180)"
   ]
  },
  {
   "cell_type": "code",
   "execution_count": 376,
   "metadata": {},
   "outputs": [
    {
     "data": {
      "text/plain": [
       "array([[2.77733500e+00, 5.16159060e+01, 1.00577050e+01],\n",
       "       [7.56418910e+01, 1.04625270e+01, 1.23801971e+02],\n",
       "       [3.62321130e+01, 2.08007600e+00, 2.43175278e+02],\n",
       "       [1.09561111e+02, 1.21666382e+02, 1.49087143e+02],\n",
       "       [4.43062550e+01, 2.00457413e+02, 2.00584488e+02],\n",
       "       [1.80282520e+01, 9.43296510e+01, 5.27272640e+01],\n",
       "       [1.51665010e+01, 3.28548970e+01, 4.27002030e+01],\n",
       "       [1.85398651e+02, 9.59218370e+01, 2.25817123e+02],\n",
       "       [2.46290090e+01, 6.66526870e+01, 1.91996506e+02],\n",
       "       [2.07211731e+02, 1.89553879e+02, 4.17249450e+01],\n",
       "       [2.14826599e+02, 8.84695510e+01, 2.03573471e+02],\n",
       "       [1.69158860e+01, 4.39612460e+01, 1.34622055e+02],\n",
       "       [9.41604920e+01, 2.38309647e+02, 2.36148727e+02],\n",
       "       [1.48277954e+02, 2.29391586e+02, 1.63221222e+02],\n",
       "       [2.21623825e+02, 2.38962219e+02, 1.54521744e+02],\n",
       "       [4.02506940e+01, 2.57045140e+01, 1.69697266e+02],\n",
       "       [7.94111560e+01, 1.55832062e+02, 9.06613310e+01],\n",
       "       [2.07802902e+02, 3.54503330e+01, 8.70628500e+00],\n",
       "       [1.24331879e+02, 1.93453125e+02, 4.55031810e+01],\n",
       "       [1.44096649e+02, 9.76667180e+01, 1.30661682e+02],\n",
       "       [1.89900833e+02, 1.92162735e+02, 2.00533112e+02],\n",
       "       [1.55520676e+02, 1.17539810e+02, 1.62269577e+02],\n",
       "       [2.29827911e+02, 7.07187900e+00, 2.25647415e+02],\n",
       "       [1.13745030e+01, 1.81727203e+02, 1.82083359e+02],\n",
       "       [1.63852005e+02, 1.46914734e+02, 5.38722880e+01],\n",
       "       [2.17544290e+01, 4.56579590e+01, 2.23833771e+02],\n",
       "       [1.09017944e+02, 1.79702133e+02, 2.02471756e+02],\n",
       "       [6.58648910e+01, 8.24868700e+01, 2.25732452e+02],\n",
       "       [2.20910721e+02, 1.73681680e+01, 1.61214828e+02],\n",
       "       [1.18329803e+02, 1.94437622e+02, 1.82911407e+02],\n",
       "       [1.90678955e+02, 1.80009201e+02, 1.47221039e+02],\n",
       "       [3.65438730e+01, 4.56996600e+00, 1.77504630e+01],\n",
       "       [2.38754456e+02, 1.99575958e+02, 2.09379135e+02],\n",
       "       [1.26817322e+02, 1.77715302e+02, 2.31319931e+02],\n",
       "       [1.44578583e+02, 8.34365080e+01, 1.11953934e+02],\n",
       "       [2.46350739e+02, 2.45541380e+01, 1.79848770e+02],\n",
       "       [2.42691406e+02, 2.97048190e+01, 1.48506485e+02],\n",
       "       [6.90051420e+01, 1.02816864e+02, 2.37774429e+02],\n",
       "       [4.24991840e+01, 1.00994942e+02, 2.41851273e+02],\n",
       "       [2.08982680e+01, 2.05458344e+02, 2.08627975e+02],\n",
       "       [1.92394485e+02, 1.88302704e+02, 2.13005768e+02],\n",
       "       [1.34046265e+02, 8.06354800e+00, 2.17193360e+01],\n",
       "       [1.90767700e+02, 1.11395300e+00, 2.20640472e+02],\n",
       "       [1.52917572e+02, 3.30562400e+01, 1.86579056e+02],\n",
       "       [2.30409180e+02, 2.06771881e+02, 1.41490479e+02],\n",
       "       [2.18998154e+02, 2.26358231e+02, 3.16688400e+00],\n",
       "       [8.32952580e+01, 1.34588240e+01, 2.10003174e+02],\n",
       "       [1.09928230e+02, 1.11715530e+01, 1.28959808e+02],\n",
       "       [1.47958084e+02, 2.28464706e+02, 2.31320663e+02],\n",
       "       [1.54414139e+02, 1.94651352e+02, 1.88676010e+02],\n",
       "       [1.25115639e+02, 1.04416527e+02, 1.37028107e+02],\n",
       "       [1.21474945e+02, 1.26913536e+02, 1.25713203e+02],\n",
       "       [1.24530602e+02, 6.40726850e+01, 2.01168655e+02],\n",
       "       [2.32091110e+02, 9.19043120e+01, 2.36816132e+02],\n",
       "       [2.15362366e+02, 9.93406300e+01, 1.36507156e+02],\n",
       "       [5.64726070e+01, 1.02437553e+02, 1.66830933e+02],\n",
       "       [1.51783630e+02, 4.17611890e+01, 8.88614580e+01],\n",
       "       [6.28691640e+01, 3.17751620e+01, 1.48455246e+02],\n",
       "       [9.33133850e+01, 6.51991730e+01, 3.70164490e+01],\n",
       "       [1.93496765e+02, 2.00162979e+02, 1.62009430e+02],\n",
       "       [2.25274292e+02, 5.08192370e+01, 2.26781265e+02],\n",
       "       [3.37180630e+01, 2.22654670e+01, 2.01557587e+02],\n",
       "       [1.90944061e+02, 2.11166840e+02, 2.01890900e+02],\n",
       "       [1.73190369e+02, 2.07844910e+02, 9.32586290e+01],\n",
       "       [2.26312149e+02, 3.74708400e+00, 1.73833389e+02],\n",
       "       [1.41794479e+02, 2.06359131e+02, 1.15737510e+01],\n",
       "       [1.47703290e+01, 2.37841660e+02, 1.95041672e+02],\n",
       "       [2.07501930e+01, 2.21783920e+02, 1.23248901e+02],\n",
       "       [1.29876633e+02, 1.81845901e+02, 1.06482529e+02],\n",
       "       [1.27643524e+02, 1.53256805e+02, 1.19617432e+02],\n",
       "       [2.17416443e+02, 1.90274948e+02, 1.25330002e+02],\n",
       "       [9.49103620e+01, 2.17746201e+02, 1.50964752e+02],\n",
       "       [2.20681549e+02, 1.65967773e+02, 1.01293282e+02],\n",
       "       [1.52882217e+02, 6.95883480e+01, 2.11828445e+02],\n",
       "       [9.86094510e+01, 2.16205261e+02, 3.97674450e+01],\n",
       "       [2.38109970e+02, 9.72864380e+01, 2.32080673e+02],\n",
       "       [2.44324768e+02, 1.71493942e+02, 8.74662500e+00],\n",
       "       [4.57085760e+01, 9.19698100e+01, 2.14893829e+02],\n",
       "       [4.02767400e+00, 1.50437469e+02, 1.24372253e+02],\n",
       "       [8.46380310e+01, 3.02932680e+01, 2.36614441e+02],\n",
       "       [2.09359558e+02, 1.97658630e+02, 1.95594131e+02],\n",
       "       [1.73816147e+02, 1.36743042e+02, 2.95393980e+01],\n",
       "       [5.11747700e+00, 5.18860020e+01, 6.94862750e+01],\n",
       "       [6.65105360e+01, 8.59439400e+00, 7.86542890e+01],\n",
       "       [1.21463272e+02, 1.42629196e+02, 1.57008728e+02],\n",
       "       [1.59892530e+01, 1.82611664e+02, 2.03897003e+02],\n",
       "       [2.07853851e+02, 1.99447128e+02, 2.67420180e+01],\n",
       "       [1.62986832e+02, 2.47310974e+02, 4.97641530e+01],\n",
       "       [9.30474550e+01, 2.31647766e+02, 1.49576889e+02],\n",
       "       [2.39062561e+02, 1.29254089e+02, 2.41600342e+02],\n",
       "       [3.94114880e+01, 6.80662000e+01, 8.23327030e+01],\n",
       "       [2.15104858e+02, 7.08894700e+00, 1.49075912e+02],\n",
       "       [2.03995544e+02, 1.67615997e+02, 1.18281113e+02],\n",
       "       [1.96341614e+02, 6.41828690e+01, 2.41491760e+02],\n",
       "       [2.70850160e+01, 2.09646988e+02, 9.59635620e+01],\n",
       "       [1.44003342e+02, 2.11727400e+00, 6.57024690e+01],\n",
       "       [1.28997528e+02, 1.48601028e+02, 1.19345108e+02],\n",
       "       [1.34754913e+02, 1.33339676e+02, 1.62231979e+02],\n",
       "       [1.23012980e+01, 1.22254730e+02, 1.70946915e+02],\n",
       "       [1.12647026e+02, 7.66335370e+01, 9.08865280e+01],\n",
       "       [1.18696320e+02, 2.27941742e+02, 1.66004242e+02],\n",
       "       [6.88701780e+01, 1.60439728e+02, 6.95080340e+01],\n",
       "       [1.32661377e+02, 3.56907310e+01, 6.11115260e+01],\n",
       "       [2.10347687e+02, 1.45074081e+02, 2.07999817e+02],\n",
       "       [4.22343180e+01, 8.74726870e+01, 2.23183441e+02],\n",
       "       [3.76919560e+01, 1.90887405e+02, 1.72497421e+02],\n",
       "       [3.63884390e+01, 2.46521149e+02, 1.97100937e+02],\n",
       "       [1.30614380e+02, 2.95257610e+01, 2.05336060e+02],\n",
       "       [9.74056400e+00, 1.17801445e+02, 1.33608950e+01],\n",
       "       [6.03611910e+01, 3.11496490e+01, 8.99659300e+00],\n",
       "       [1.41578156e+02, 1.51934830e+02, 1.35415207e+02],\n",
       "       [1.54567139e+02, 9.21315100e+00, 4.07762410e+01],\n",
       "       [1.37363098e+02, 2.21681122e+02, 2.19381592e+02],\n",
       "       [1.24309158e+02, 1.93835541e+02, 4.61370240e+01],\n",
       "       [1.96617447e+02, 1.46772308e+02, 2.06571960e+02],\n",
       "       [2.45232162e+02, 2.03713196e+02, 2.30445374e+02],\n",
       "       [5.39779400e+01, 8.86011810e+01, 6.51069500e+00],\n",
       "       [1.12749016e+02, 1.62420670e+02, 1.50392400e+01],\n",
       "       [1.73898743e+02, 1.68500702e+02, 2.30138306e+02],\n",
       "       [1.06040010e+01, 2.43479095e+02, 1.72542404e+02],\n",
       "       [1.26845436e+02, 3.67223470e+01, 3.66536220e+01],\n",
       "       [1.44356216e+02, 1.27207718e+02, 2.85634310e+01],\n",
       "       [1.29259872e+02, 1.80378020e+01, 1.99377396e+02],\n",
       "       [1.36943832e+02, 4.80468100e+01, 1.97564529e+02],\n",
       "       [3.37253720e+01, 8.49130940e+01, 2.14025391e+02],\n",
       "       [1.20078331e+02, 1.48733688e+02, 1.88764709e+02],\n",
       "       [2.45544449e+02, 1.28555940e+01, 2.24657471e+02],\n",
       "       [1.53991913e+02, 1.04390045e+02, 2.04085373e+02],\n",
       "       [1.63741680e+01, 1.62050949e+02, 1.65627197e+02],\n",
       "       [1.95129135e+02, 7.02593920e+01, 1.98346054e+02],\n",
       "       [2.03942902e+02, 6.36405790e+01, 5.32297360e+01],\n",
       "       [3.30246200e+01, 4.12505800e+01, 2.33534744e+02],\n",
       "       [1.36493350e+01, 1.64710098e+02, 2.44958328e+02],\n",
       "       [6.26670500e+00, 2.47315491e+02, 1.00994400e+02],\n",
       "       [1.33398178e+02, 2.25479080e+02, 1.87011169e+02],\n",
       "       [8.58345790e+01, 1.66126862e+02, 2.29736191e+02],\n",
       "       [1.72216660e+02, 1.53830887e+02, 1.34646835e+02],\n",
       "       [1.61298721e+02, 7.61051560e+01, 1.28354584e+02],\n",
       "       [2.45146317e+02, 1.38767410e+02, 5.92628630e+01],\n",
       "       [2.00250490e+01, 1.71889648e+02, 5.86282770e+01],\n",
       "       [8.15828480e+01, 1.30494614e+02, 7.62045440e+01],\n",
       "       [6.05611800e+00, 8.59377750e+01, 1.22797600e+02],\n",
       "       [7.02080900e+00, 1.09442986e+02, 2.39358353e+02],\n",
       "       [2.04873184e+02, 2.01075000e-01, 4.31535190e+01],\n",
       "       [8.98512420e+01, 1.46290207e+02, 2.44084869e+02],\n",
       "       [2.05517044e+02, 7.05409620e+01, 2.10192261e+02],\n",
       "       [2.11872299e+02, 1.44445404e+02, 6.77710880e+01],\n",
       "       [2.30630341e+02, 3.36671260e+01, 1.63407211e+02],\n",
       "       [2.29635178e+02, 2.03191330e+02, 4.29409400e+00],\n",
       "       [2.44779770e+02, 1.13187660e+02, 4.79003450e+01],\n",
       "       [1.63400314e+02, 1.02848663e+02, 1.26775871e+02],\n",
       "       [2.18888596e+02, 1.72938385e+02, 2.37475281e+02],\n",
       "       [6.96490630e+01, 1.78319366e+02, 2.45700800e+00],\n",
       "       [9.88021930e+01, 1.03179176e+02, 2.44986893e+02],\n",
       "       [2.22815048e+02, 6.25937080e+01, 1.12770859e+02],\n",
       "       [3.51908800e+01, 3.05032300e+00, 7.98939360e+01],\n",
       "       [3.92475050e+01, 8.16220000e-01, 9.48653490e+01],\n",
       "       [3.64233130e+01, 1.76543880e+01, 2.29859450e+01],\n",
       "       [9.71258850e+01, 3.21355900e+00, 4.09420590e+01],\n",
       "       [7.02116780e+01, 2.11639435e+02, 3.24868240e+01],\n",
       "       [1.40834717e+02, 1.60815475e+02, 1.48756287e+02],\n",
       "       [1.37473770e+02, 6.34094090e+01, 1.50642944e+02],\n",
       "       [4.19852640e+01, 1.69798035e+02, 8.36971970e+01],\n",
       "       [8.12755430e+01, 1.78785477e+02, 6.17342190e+01],\n",
       "       [1.94249480e+01, 1.84523090e+01, 1.19033081e+02],\n",
       "       [2.33110855e+02, 2.35195560e+01, 3.17698710e+01],\n",
       "       [1.88699387e+02, 1.81124084e+02, 3.14074250e+01],\n",
       "       [4.02839850e+01, 1.78106491e+02, 1.34250290e+02],\n",
       "       [1.22836601e+02, 1.63173767e+02, 1.69194168e+02],\n",
       "       [1.59546402e+02, 4.33241730e+01, 1.06331650e+02],\n",
       "       [2.00210650e+01, 1.87494400e+02, 2.04989899e+02],\n",
       "       [1.18723534e+02, 3.94287150e+01, 1.21608017e+02],\n",
       "       [9.72899930e+01, 1.24714775e+02, 5.89639700e+01],\n",
       "       [2.15027756e+02, 1.21951088e+02, 1.98690063e+02],\n",
       "       [2.01717880e+02, 2.34471909e+02, 2.01861760e+01],\n",
       "       [1.63921768e+02, 1.96045807e+02, 4.37030490e+01],\n",
       "       [1.35688919e+02, 1.70906784e+02, 2.25520645e+02],\n",
       "       [1.07890160e+02, 2.34548920e+02, 3.62279400e+01],\n",
       "       [2.98780480e+01, 8.15205380e+01, 8.01477430e+01],\n",
       "       [5.53157230e+01, 1.99081482e+02, 1.84647095e+02],\n",
       "       [6.14311070e+01, 3.99138220e+01, 3.91672400e+00],\n",
       "       [1.82225400e+00, 1.26722542e+02, 2.40506439e+02],\n",
       "       [1.45281982e+02, 5.63348050e+01, 1.97638336e+02],\n",
       "       [3.76578100e+01, 2.80801390e+01, 7.33487010e+01],\n",
       "       [1.10369080e+02, 2.30350571e+02, 1.00979477e+02],\n",
       "       [1.05380852e+02, 7.53399430e+01, 5.85987320e+01],\n",
       "       [1.49231710e+01, 1.99485397e+02, 2.31292435e+02],\n",
       "       [1.50965103e+02, 1.90772247e+02, 6.17068330e+01],\n",
       "       [1.50016144e+02, 8.58956530e+01, 1.83657990e+02],\n",
       "       [1.27556450e+02, 1.98031631e+02, 1.98854843e+02],\n",
       "       [2.27570530e+01, 7.86921010e+01, 8.68238830e+01],\n",
       "       [2.06846878e+02, 1.13669456e+02, 2.49708557e+02],\n",
       "       [1.67398956e+02, 8.25892330e+01, 1.96025870e+01],\n",
       "       [7.68370820e+01, 2.03847336e+02, 4.66105270e+01],\n",
       "       [8.91150300e+00, 1.46252570e+01, 8.68090130e+01],\n",
       "       [2.15714264e+02, 1.89175339e+02, 1.25024610e+01],\n",
       "       [1.27138641e+02, 1.05651932e+02, 7.43397980e+01],\n",
       "       [7.82200850e+01, 1.15500351e+02, 1.21424316e+02],\n",
       "       [1.26086250e+02, 2.45351288e+02, 9.87377400e+01],\n",
       "       [2.03521698e+02, 1.10346848e+02, 1.25451570e+01],\n",
       "       [2.29885025e+02, 1.89354233e+02, 7.16555000e-01],\n",
       "       [2.34812363e+02, 6.98267900e+01, 3.42172300e+00],\n",
       "       [4.74565090e+01, 1.90151657e+02, 1.86000427e+02],\n",
       "       [4.59894560e+01, 1.86685486e+02, 1.47491104e+02],\n",
       "       [2.28228897e+02, 6.73956530e+01, 2.12497086e+02],\n",
       "       [7.31984000e-01, 7.05826570e+01, 5.70732990e+01],\n",
       "       [2.15286804e+02, 1.67155518e+02, 2.19395416e+02],\n",
       "       [6.39849090e+01, 2.36887711e+02, 7.24040300e+01],\n",
       "       [9.04720990e+01, 2.18176559e+02, 7.46450730e+01],\n",
       "       [4.34620780e+01, 1.32835953e+02, 1.59054962e+02],\n",
       "       [1.40767181e+02, 1.87776291e+02, 2.46922012e+02],\n",
       "       [9.21371840e+01, 5.97607420e+01, 2.14934540e+01],\n",
       "       [1.76768127e+02, 2.20097214e+02, 4.66269610e+01],\n",
       "       [1.51715912e+02, 1.28526230e+02, 7.25238650e+01],\n",
       "       [2.40188766e+02, 1.95155792e+02, 1.59793076e+02],\n",
       "       [1.33379170e+01, 2.63454400e+01, 7.39788060e+01],\n",
       "       [1.77853622e+02, 1.60544479e+02, 2.10900742e+02],\n",
       "       [2.72948360e+01, 1.18932716e+02, 1.88774292e+02],\n",
       "       [1.88851913e+02, 4.97040100e+00, 2.54456700e+00],\n",
       "       [1.94038345e+02, 9.14166260e+01, 2.33024963e+02],\n",
       "       [1.54898361e+02, 1.29431625e+02, 5.05808790e+01],\n",
       "       [1.83277542e+02, 7.89710080e+01, 1.36413879e+02],\n",
       "       [1.75616135e+02, 9.65737990e+01, 1.89720306e+02],\n",
       "       [2.06056442e+02, 2.42606583e+02, 7.60880580e+01],\n",
       "       [6.01236080e+01, 4.87102200e+01, 1.04572968e+02],\n",
       "       [6.43266070e+01, 1.16653656e+02, 1.51555756e+02],\n",
       "       [2.25667080e+01, 5.27697910e+01, 1.78012726e+02],\n",
       "       [2.79098870e+01, 7.73939360e+01, 2.31301239e+02],\n",
       "       [1.59912048e+02, 1.22532280e+02, 5.50305710e+01],\n",
       "       [1.02580429e+02, 2.01183807e+02, 1.42960068e+02],\n",
       "       [1.15911346e+02, 2.58729270e+01, 1.98431412e+02],\n",
       "       [1.47753296e+02, 1.10358612e+02, 1.57952942e+02],\n",
       "       [2.32605911e+02, 5.36223070e+01, 1.19079970e+01],\n",
       "       [1.55016940e+01, 5.29919320e+01, 2.09220566e+02],\n",
       "       [3.52507060e+01, 1.62423996e+02, 1.07137054e+02],\n",
       "       [1.46105550e+01, 2.37791672e+02, 7.03650740e+01],\n",
       "       [2.24086136e+02, 7.52758560e+01, 1.33776993e+02],\n",
       "       [1.41030869e+02, 1.34324692e+02, 1.43793732e+02],\n",
       "       [2.46320389e+02, 9.77492680e+01, 3.80958440e+01],\n",
       "       [8.77037730e+01, 1.94707809e+02, 9.63338010e+01],\n",
       "       [3.51947210e+01, 1.54531784e+02, 2.05175766e+02],\n",
       "       [8.25217740e+01, 1.46937970e+01, 4.76983200e+00],\n",
       "       [1.35491119e+02, 8.21614300e+01, 8.81174770e+01],\n",
       "       [1.63802551e+02, 7.38013610e+01, 8.52669910e+01],\n",
       "       [4.58586850e+01, 9.39203410e+01, 2.13095947e+02],\n",
       "       [2.42186386e+02, 2.49211929e+02, 2.15323013e+02],\n",
       "       [2.04595470e+01, 8.52588900e+00, 1.20095169e+02],\n",
       "       [1.51401489e+02, 5.00767000e+00, 2.10053177e+02],\n",
       "       [2.43101501e+02, 5.64638900e+01, 8.96188810e+01],\n",
       "       [1.76124756e+02, 1.94437225e+02, 1.76690399e+02]])"
      ]
     },
     "execution_count": 376,
     "metadata": {},
     "output_type": "execute_result"
    }
   ],
   "source": [
    "p.collect()[1]"
   ]
  },
  {
   "cell_type": "code",
   "execution_count": null,
   "metadata": {},
   "outputs": [],
   "source": []
  },
  {
   "cell_type": "code",
   "execution_count": null,
   "metadata": {},
   "outputs": [],
   "source": []
  },
  {
   "cell_type": "code",
   "execution_count": null,
   "metadata": {},
   "outputs": [],
   "source": []
  },
  {
   "cell_type": "code",
   "execution_count": 373,
   "metadata": {},
   "outputs": [
    {
     "data": {
      "image/png": "[encoded data removed]",
      "text/plain": [
       "<Figure size 432x288 with 2 Axes>"
      ]
     },
     "metadata": {
      "needs_background": "light"
     },
     "output_type": "display_data"
    }
   ],
   "source": [
    "ss[0]+ss[1]+otro_ss\n",
    "plt.imshow((ss[0]+ss[1]+otro_ss)[10])\n",
    "cax=plt.colorbar()"
   ]
  },
  {
   "cell_type": "code",
   "execution_count": null,
   "metadata": {},
   "outputs": [],
   "source": []
  },
  {
   "cell_type": "code",
   "execution_count": null,
   "metadata": {},
   "outputs": [],
   "source": []
  },
  {
   "cell_type": "code",
   "execution_count": null,
   "metadata": {},
   "outputs": [],
   "source": []
  },
  {
   "cell_type": "code",
   "execution_count": 277,
   "metadata": {},
   "outputs": [
    {
     "data": {
      "text/plain": [
       "2"
      ]
     },
     "execution_count": 277,
     "metadata": {},
     "output_type": "execute_result"
    }
   ],
   "source": [
    "len(p.collect())"
   ]
  },
  {
   "cell_type": "code",
   "execution_count": 278,
   "metadata": {},
   "outputs": [
    {
     "name": "stdout",
     "output_type": "stream",
     "text": [
      "2\n",
      "Finializó en 10.34 segundos\n",
      "\n"
     ]
    },
    {
     "name": "stderr",
     "output_type": "stream",
     "text": [
      "Process ForkPoolWorker-1497:\n",
      "Process ForkPoolWorker-1498:\n",
      "Traceback (most recent call last):\n",
      "  File \"/usr/lib/python3.8/multiprocessing/process.py\", line 315, in _bootstrap\n",
      "    self.run()\n",
      "  File \"/usr/lib/python3.8/multiprocessing/process.py\", line 108, in run\n",
      "    self._target(*self._args, **self._kwargs)\n",
      "Traceback (most recent call last):\n",
      "  File \"/usr/lib/python3.8/multiprocessing/pool.py\", line 114, in worker\n",
      "    task = get()\n",
      "  File \"/usr/lib/python3.8/multiprocessing/queues.py\", line 356, in get\n",
      "    res = self._reader.recv_bytes()\n",
      "  File \"/usr/lib/python3.8/multiprocessing/process.py\", line 315, in _bootstrap\n",
      "    self.run()\n",
      "  File \"/usr/lib/python3.8/multiprocessing/connection.py\", line 216, in recv_bytes\n",
      "    buf = self._recv_bytes(maxlength)\n",
      "  File \"/usr/lib/python3.8/multiprocessing/process.py\", line 108, in run\n",
      "    self._target(*self._args, **self._kwargs)\n",
      "  File \"/usr/lib/python3.8/multiprocessing/connection.py\", line 414, in _recv_bytes\n",
      "    buf = self._recv(4)\n",
      "  File \"/usr/lib/python3.8/multiprocessing/pool.py\", line 114, in worker\n",
      "    task = get()\n",
      "  File \"/usr/lib/python3.8/multiprocessing/connection.py\", line 379, in _recv\n",
      "    chunk = read(handle, remaining)\n",
      "KeyboardInterrupt\n",
      "  File \"/usr/lib/python3.8/multiprocessing/queues.py\", line 355, in get\n",
      "    with self._rlock:\n",
      "  File \"/usr/lib/python3.8/multiprocessing/synchronize.py\", line 95, in __enter__\n",
      "    return self._semlock.__enter__()\n",
      "KeyboardInterrupt\n"
     ]
    }
   ],
   "source": [
    "bn = 30\n",
    "XXX = np.zeros((bn,bn,bn))\n",
    "\n",
    "start = time.perf_counter()\n",
    "\n",
    "pool = mp.Pool(processes=len(p.collect()))      \n",
    "results = [pool.apply_async(dis_XX, args=(jj,30,180,)) for jj in p.collect()]   \n",
    "output = [b.get() for b in results]\n",
    "print(len(output))\n",
    "  \n",
    "for i in range(len(output)):\n",
    "    #print(i)\n",
    "    XXX = XXX + output[i][0]\n",
    "    \n",
    "    \n",
    "finish = time.perf_counter()\n",
    "    \n",
    "print(f'Finializó en {round(finish-start,2)} segundos\\n')"
   ]
  },
  {
   "cell_type": "code",
   "execution_count": null,
   "metadata": {},
   "outputs": [],
   "source": []
  },
  {
   "cell_type": "code",
   "execution_count": null,
   "metadata": {},
   "outputs": [],
   "source": []
  },
  {
   "cell_type": "code",
   "execution_count": null,
   "metadata": {},
   "outputs": [],
   "source": []
  },
  {
   "cell_type": "code",
   "execution_count": null,
   "metadata": {},
   "outputs": [],
   "source": []
  },
  {
   "cell_type": "code",
   "execution_count": null,
   "metadata": {},
   "outputs": [],
   "source": []
  },
  {
   "cell_type": "code",
   "execution_count": 442,
   "metadata": {},
   "outputs": [
    {
     "data": {
      "text/plain": [
       "[[]]"
      ]
     },
     "execution_count": 442,
     "metadata": {},
     "output_type": "execute_result"
    }
   ],
   "source": [
    "[p.collect()[2:]]"
   ]
  },
  {
   "cell_type": "code",
   "execution_count": null,
   "metadata": {},
   "outputs": [],
   "source": []
  },
  {
   "cell_type": "code",
   "execution_count": null,
   "metadata": {},
   "outputs": [],
   "source": []
  },
  {
   "cell_type": "code",
   "execution_count": 314,
   "metadata": {},
   "outputs": [
    {
     "name": "stdout",
     "output_type": "stream",
     "text": [
      "2\n",
      "2\n",
      "2\n"
     ]
    },
    {
     "name": "stderr",
     "output_type": "stream",
     "text": [
      "Process ForkPoolWorker-1542:\n",
      "Traceback (most recent call last):\n",
      "  File \"/usr/lib/python3.8/multiprocessing/process.py\", line 315, in _bootstrap\n",
      "    self.run()\n",
      "  File \"/usr/lib/python3.8/multiprocessing/process.py\", line 108, in run\n",
      "    self._target(*self._args, **self._kwargs)\n",
      "  File \"/usr/lib/python3.8/multiprocessing/pool.py\", line 114, in worker\n",
      "    task = get()\n",
      "  File \"/usr/lib/python3.8/multiprocessing/queues.py\", line 356, in get\n",
      "    res = self._reader.recv_bytes()\n",
      "  File \"/usr/lib/python3.8/multiprocessing/connection.py\", line 216, in recv_bytes\n",
      "    buf = self._recv_bytes(maxlength)\n",
      "  File \"/usr/lib/python3.8/multiprocessing/connection.py\", line 414, in _recv_bytes\n",
      "    buf = self._recv(4)\n",
      "  File \"/usr/lib/python3.8/multiprocessing/connection.py\", line 379, in _recv\n",
      "    chunk = read(handle, remaining)\n",
      "KeyboardInterrupt\n"
     ]
    }
   ],
   "source": [
    "bn = 30\n",
    "NDDR = np.zeros((bn,bn,bn))\n",
    "NDRR = np.zeros((bn,bn,bn))\n",
    "    \n",
    "n = 0\n",
    "for ii in p.collect()[:nuc-1]:\n",
    "    n = n+1\n",
    "        \n",
    "    pool = mp.Pool(processes=len(p.collect()[n:]))      \n",
    "    results = [pool.apply_async(dis_XY, args=(ii,jj,30,180,)) for jj in p.collect()[n:]]   \n",
    "    output = [b.get() for b in results]\n",
    "    print(len(output))\n",
    "    \n",
    "    for i in range(len(output)):\n",
    "        #print(i)\n",
    "        NDDR = NDDR + output[i][0]\n",
    "        NDRR = NDRR + output[i][1]\n",
    "    "
   ]
  },
  {
   "cell_type": "code",
   "execution_count": 259,
   "metadata": {},
   "outputs": [
    {
     "data": {
      "text/plain": [
       "30"
      ]
     },
     "execution_count": 259,
     "metadata": {},
     "output_type": "execute_result"
    }
   ],
   "source": [
    "len(output[0][1])"
   ]
  },
  {
   "cell_type": "code",
   "execution_count": 196,
   "metadata": {},
   "outputs": [
    {
     "data": {
      "text/plain": [
       "array([[[ 0.,  0.,  0., ...,  0.,  0.,  0.],\n",
       "        [ 0.,  0.,  0., ...,  0.,  0.,  0.],\n",
       "        [ 0.,  0.,  0., ...,  0.,  0.,  0.],\n",
       "        ...,\n",
       "        [ 0.,  0.,  0., ...,  0.,  0.,  0.],\n",
       "        [ 0.,  0.,  0., ...,  0.,  0.,  0.],\n",
       "        [ 0.,  0.,  0., ...,  0.,  0.,  0.]],\n",
       "\n",
       "       [[ 0.,  1.,  0., ...,  0.,  0.,  0.],\n",
       "        [ 1.,  1.,  0., ...,  0.,  0.,  0.],\n",
       "        [ 0.,  0.,  0., ...,  0.,  0.,  0.],\n",
       "        ...,\n",
       "        [ 0.,  0.,  0., ...,  5.,  2.,  0.],\n",
       "        [ 0.,  0.,  0., ...,  6.,  3.,  0.],\n",
       "        [ 0.,  0.,  0., ...,  0.,  3.,  4.]],\n",
       "\n",
       "       [[ 0.,  0.,  0., ...,  0.,  0.,  0.],\n",
       "        [ 0.,  0.,  0., ...,  0.,  0.,  0.],\n",
       "        [ 0.,  0.,  0., ...,  0.,  0.,  0.],\n",
       "        ...,\n",
       "        [ 0.,  0.,  0., ...,  0.,  0.,  0.],\n",
       "        [ 0.,  0.,  0., ...,  0.,  0.,  0.],\n",
       "        [ 0.,  0.,  0., ...,  0.,  0.,  0.]],\n",
       "\n",
       "       ...,\n",
       "\n",
       "       [[ 0.,  0.,  0., ..., 12.,  0.,  0.],\n",
       "        [ 0.,  0.,  0., ...,  3.,  3.,  0.],\n",
       "        [ 0.,  0.,  0., ...,  0.,  6.,  1.],\n",
       "        ...,\n",
       "        [12.,  1.,  1., ...,  7.,  3.,  3.],\n",
       "        [ 0.,  1.,  2., ...,  6.,  5.,  5.],\n",
       "        [ 0.,  0.,  0., ...,  3.,  6.,  1.]],\n",
       "\n",
       "       [[ 0.,  0.,  0., ...,  0., 10.,  0.],\n",
       "        [ 0.,  0.,  0., ...,  2.,  3.,  4.],\n",
       "        [ 0.,  0.,  0., ...,  0.,  1.,  1.],\n",
       "        ...,\n",
       "        [ 0.,  0.,  1., ...,  8.,  4.,  6.],\n",
       "        [10.,  0.,  0., ..., 10.,  5.,  0.],\n",
       "        [ 0.,  0.,  0., ...,  2.,  4.,  6.]],\n",
       "\n",
       "       [[ 0.,  0.,  0., ...,  0.,  0., 12.],\n",
       "        [ 0.,  0.,  0., ...,  0.,  5.,  5.],\n",
       "        [ 0.,  0.,  0., ...,  0.,  0.,  1.],\n",
       "        ...,\n",
       "        [ 0.,  0.,  1., ...,  4.,  4.,  6.],\n",
       "        [ 0.,  0.,  0., ...,  3.,  5.,  3.],\n",
       "        [12.,  0.,  1., ...,  1.,  4.,  1.]]])"
      ]
     },
     "execution_count": 196,
     "metadata": {},
     "output_type": "execute_result"
    }
   ],
   "source": [
    "NDDR"
   ]
  },
  {
   "cell_type": "code",
   "execution_count": 122,
   "metadata": {},
   "outputs": [
    {
     "ename": "TypeError",
     "evalue": "'method' object is not subscriptable",
     "output_type": "error",
     "traceback": [
      "\u001b[0;31m---------------------------------------------------------------------------\u001b[0m",
      "\u001b[0;31mTypeError\u001b[0m                                 Traceback (most recent call last)",
      "\u001b[0;32m<ipython-input-122-180e97542c08>\u001b[0m in \u001b[0;36m<module>\u001b[0;34m\u001b[0m\n\u001b[0;32m----> 1\u001b[0;31m \u001b[0mp\u001b[0m\u001b[0;34m.\u001b[0m\u001b[0mcollect\u001b[0m\u001b[0;34m[\u001b[0m\u001b[0mn\u001b[0m\u001b[0;34m:\u001b[0m\u001b[0;34m]\u001b[0m\u001b[0;34m\u001b[0m\u001b[0;34m\u001b[0m\u001b[0m\n\u001b[0m",
      "\u001b[0;31mTypeError\u001b[0m: 'method' object is not subscriptable"
     ]
    }
   ],
   "source": [
    "p.collect[n:]"
   ]
  },
  {
   "cell_type": "code",
   "execution_count": null,
   "metadata": {},
   "outputs": [],
   "source": []
  },
  {
   "cell_type": "code",
   "execution_count": null,
   "metadata": {},
   "outputs": [],
   "source": []
  },
  {
   "cell_type": "code",
   "execution_count": 87,
   "metadata": {},
   "outputs": [
    {
     "data": {
      "text/plain": [
       "5"
      ]
     },
     "execution_count": 87,
     "metadata": {},
     "output_type": "execute_result"
    }
   ],
   "source": [
    "len(p.collect()[1:])"
   ]
  },
  {
   "cell_type": "code",
   "execution_count": 84,
   "metadata": {},
   "outputs": [
    {
     "data": {
      "text/plain": [
       "[250]"
      ]
     },
     "execution_count": 84,
     "metadata": {},
     "output_type": "execute_result"
    }
   ],
   "source": [
    "[x for x in range(math.ceil(n/nuc),n,math.ceil(n/nuc))]"
   ]
  },
  {
   "cell_type": "code",
   "execution_count": 62,
   "metadata": {},
   "outputs": [
    {
     "data": {
      "text/plain": [
       "166.66666666666666"
      ]
     },
     "execution_count": 62,
     "metadata": {},
     "output_type": "execute_result"
    }
   ],
   "source": [
    "\n",
    "500/3"
   ]
  },
  {
   "cell_type": "code",
   "execution_count": null,
   "metadata": {},
   "outputs": [],
   "source": [
    "#FUNCIÓN DE CORRELACIÓN Peebles-Hauser paralelo\n",
    "def correl_PH_paralelo(p,p_r,bn):\n",
    "    n = len(p[0])\n",
    "    m = len(p_r[0])\n",
    "    nD = n*(n-1)/2\n",
    "    nR = m*(m-1)/2\n",
    "    \n",
    "    pool = mp.Pool(processes=2)\n",
    "    results = [pool.apply_async(histo, args=(ii,bn,)) for ii in [p,p_r]]\n",
    "    output = [b.get() for b in results]\n",
    "\n",
    "    \n",
    "    NDD = output[0][0]\n",
    "    rD = output[0][1]\n",
    "    NRR = output[1][0]        \n",
    "    return rD[1:bn],(nR*NDD/(nD*NRR))-1"
   ]
  },
  {
   "cell_type": "code",
   "execution_count": null,
   "metadata": {},
   "outputs": [],
   "source": []
  },
  {
   "cell_type": "code",
   "execution_count": null,
   "metadata": {},
   "outputs": [],
   "source": []
  },
  {
   "cell_type": "code",
   "execution_count": null,
   "metadata": {},
   "outputs": [],
   "source": []
  },
  {
   "cell_type": "code",
   "execution_count": null,
   "metadata": {},
   "outputs": [],
   "source": []
  },
  {
   "cell_type": "code",
   "execution_count": null,
   "metadata": {},
   "outputs": [],
   "source": []
  },
  {
   "cell_type": "code",
   "execution_count": 11,
   "metadata": {},
   "outputs": [],
   "source": [
    "#FUNCIÓN DE PARA HACER HISTOGRAMAS \n",
    "def Histos_XXX(p,bn,point_max):\n",
    "    \"\"\" \n",
    "    Función para construir los histogramas \n",
    "    \n",
    "    p = datos\n",
    "    bn = tamaño de bins\n",
    "    point_max = punto máximo en el histograma\n",
    "    \n",
    "    \"\"\"\n",
    "    \n",
    "    #Inicializamos los arreglos de los histogramas\n",
    "    NDDD = np.zeros((bn,bn,bn))\n",
    "    \n",
    "    # =========================================================================================== \n",
    "    \n",
    "    n = 0\n",
    "    for (ii) in zip(p):\n",
    "        n = n+1\n",
    "        \n",
    "        s = ii-p[n:] # Diferencia entre el punto pivote y los demas puntos siguientes \n",
    "        r = np.sqrt(s[:,0]**2+s[:,1]**2+s[:,2]**2)\n",
    "        \n",
    "        m = 0\n",
    "        for (kk) in zip(p[n:]):\n",
    "            \n",
    "            #DDD ===============================================================================\n",
    "            r12 = np.ones_like(r[m+1:])*r[m]\n",
    "            r13 = r[m+1:]\n",
    "        \n",
    "            ss = kk-p[n:][m+1:] # Diferencia entre el punto pivote y los demas puntos siguientes \n",
    "            r32 = np.sqrt(ss[:,0]**2+ss[:,1]**2+ss[:,2]**2)\n",
    "        \n",
    "            # Histogramas para DDD\n",
    "            dis, dim = np.histogramdd(np.array([r12,r13,r32]).T,bins = [bn,bn,bn], \n",
    "                                    range=[[0,point_max],[0,point_max],[0,point_max]])\n",
    "            NDDD = NDDD + dis\n",
    "            \n",
    "            m = m+1\n",
    "    return NDDD"
   ]
  },
  {
   "cell_type": "code",
   "execution_count": 12,
   "metadata": {},
   "outputs": [],
   "source": [
    "#FUNCIÓN DE PARA HACER HISTOGRAMAS \n",
    "def Histos_YXX(p,p_r,bn,point_max):\n",
    "    \"\"\" \n",
    "    Función para construir los histogramas \n",
    "    \n",
    "    p = datos\n",
    "    p_r = random\n",
    "    bn = tamaño de bins\n",
    "    point_max = punto máximo en el histograma\n",
    "    \n",
    "    \"\"\"\n",
    "    \n",
    "    #Inicializamos los arreglos de los histogramas\n",
    "    NDDR = np.zeros((bn,bn,bn))\n",
    "    \n",
    "    # =========================================================================================== \n",
    "    \n",
    "    n = 0\n",
    "    for (ii, jj) in zip(p, p_r):\n",
    "        n = n+1\n",
    "        \n",
    "        s = ii-p[n:] # Diferencia entre el punto pivote y los demas puntos siguientes \n",
    "        r = np.sqrt(s[:,0]**2+s[:,1]**2+s[:,2]**2)\n",
    "        \n",
    "        m = 0\n",
    "        for (kk, ll) in zip(p[n:], p_r[n:]):\n",
    "            \n",
    "            #DDR ===============================================================================\n",
    "            r12 = np.ones_like(p_r.T[0])*r[m]\n",
    "            \n",
    "            ss = ii-p_r # Diferencia entre el punto pivote y el punto en la muestra random \n",
    "            r13 = np.sqrt(ss[:,0]**2+ss[:,1]**2+ss[:,2]**2)\n",
    "            \n",
    "            ss = kk-p_r # Diferencia entre el punto 2 de los datos y el punto en la muestra random \n",
    "            r32 = np.sqrt(ss[:,0]**2+ss[:,1]**2+ss[:,2]**2)\n",
    "            \n",
    "            # Histogramas para DDR\n",
    "            dis, dim = np.histogramdd(np.array([r12,r13,r32]).T,bins = [bn,bn,bn], \n",
    "                                    range=[[0,point_max],[0,point_max],[0,point_max]])\n",
    "            NDDR = NDDR + dis\n",
    "            \n",
    "            m = m+1\n",
    "    \n",
    "    return  NDDR"
   ]
  },
  {
   "cell_type": "markdown",
   "metadata": {},
   "source": [
    "# Probramos "
   ]
  },
  {
   "cell_type": "code",
   "execution_count": 14,
   "metadata": {},
   "outputs": [
    {
     "name": "stdout",
     "output_type": "stream",
     "text": [
      "Finializó en 76.67 segundos\n",
      "\n"
     ]
    }
   ],
   "source": [
    "#Paralelizado\n",
    "start = time.perf_counter()\n",
    "\n",
    "DDD = Histos_XXX(data,30,180)\n",
    "RRR = Histos_XXX(rand,30,180)\n",
    "\n",
    "finish = time.perf_counter()\n",
    "\n",
    "print(f'Finializó en {round(finish-start,2)} segundos\\n')"
   ]
  },
  {
   "cell_type": "code",
   "execution_count": 15,
   "metadata": {},
   "outputs": [
    {
     "name": "stdout",
     "output_type": "stream",
     "text": [
      "Finializó en 41.89 segundos\n",
      "\n"
     ]
    }
   ],
   "source": [
    "#Paralelizado\n",
    "start_pll = time.perf_counter()\n",
    "\n",
    "XXX = data_rand.map(lambda x: Histos_XXX(x,30,180)).collect()\n",
    "\n",
    "finish_pll = time.perf_counter()\n",
    "\n",
    "print(f'Finializó en {round(finish_pll-start_pll,2)} segundos\\n')"
   ]
  },
  {
   "cell_type": "code",
   "execution_count": 18,
   "metadata": {},
   "outputs": [
    {
     "name": "stdout",
     "output_type": "stream",
     "text": [
      "Paralelizado fue 1.83 veces mas rapido\n",
      "\n"
     ]
    }
   ],
   "source": [
    "print(f'Paralelizado fue {round((finish-start)/(finish_pll-start_pll),2)} veces mas rapido\\n')"
   ]
  },
  {
   "cell_type": "code",
   "execution_count": null,
   "metadata": {},
   "outputs": [],
   "source": []
  },
  {
   "cell_type": "code",
   "execution_count": 131,
   "metadata": {},
   "outputs": [
    {
     "data": {
      "text/plain": [
       "array([[[0.000e+00, 0.000e+00, 0.000e+00, ..., 0.000e+00, 0.000e+00,\n",
       "         0.000e+00],\n",
       "        [0.000e+00, 0.000e+00, 1.000e+00, ..., 0.000e+00, 0.000e+00,\n",
       "         0.000e+00],\n",
       "        [0.000e+00, 1.000e+00, 5.000e+00, ..., 0.000e+00, 0.000e+00,\n",
       "         0.000e+00],\n",
       "        ...,\n",
       "        [0.000e+00, 0.000e+00, 0.000e+00, ..., 1.120e+02, 3.900e+01,\n",
       "         0.000e+00],\n",
       "        [0.000e+00, 0.000e+00, 0.000e+00, ..., 3.400e+01, 9.500e+01,\n",
       "         3.700e+01],\n",
       "        [0.000e+00, 0.000e+00, 0.000e+00, ..., 0.000e+00, 2.000e+01,\n",
       "         1.130e+02]],\n",
       "\n",
       "       [[1.000e+00, 2.000e+00, 1.000e+00, ..., 0.000e+00, 0.000e+00,\n",
       "         0.000e+00],\n",
       "        [2.000e+00, 3.000e+00, 1.000e+00, ..., 0.000e+00, 0.000e+00,\n",
       "         0.000e+00],\n",
       "        [0.000e+00, 5.000e+00, 1.000e+01, ..., 0.000e+00, 0.000e+00,\n",
       "         0.000e+00],\n",
       "        ...,\n",
       "        [0.000e+00, 0.000e+00, 0.000e+00, ..., 2.350e+02, 1.960e+02,\n",
       "         6.100e+01],\n",
       "        [0.000e+00, 0.000e+00, 0.000e+00, ..., 2.110e+02, 2.260e+02,\n",
       "         1.740e+02],\n",
       "        [0.000e+00, 0.000e+00, 0.000e+00, ..., 5.100e+01, 2.120e+02,\n",
       "         2.440e+02]],\n",
       "\n",
       "       [[0.000e+00, 1.000e+00, 4.000e+00, ..., 0.000e+00, 0.000e+00,\n",
       "         0.000e+00],\n",
       "        [1.000e+00, 1.000e+00, 3.000e+00, ..., 0.000e+00, 0.000e+00,\n",
       "         0.000e+00],\n",
       "        [6.000e+00, 6.000e+00, 1.200e+01, ..., 0.000e+00, 0.000e+00,\n",
       "         0.000e+00],\n",
       "        ...,\n",
       "        [0.000e+00, 0.000e+00, 0.000e+00, ..., 3.530e+02, 3.630e+02,\n",
       "         3.210e+02],\n",
       "        [0.000e+00, 0.000e+00, 0.000e+00, ..., 2.750e+02, 3.040e+02,\n",
       "         3.130e+02],\n",
       "        [0.000e+00, 0.000e+00, 0.000e+00, ..., 2.000e+02, 2.820e+02,\n",
       "         2.620e+02]],\n",
       "\n",
       "       ...,\n",
       "\n",
       "       [[0.000e+00, 0.000e+00, 0.000e+00, ..., 1.270e+02, 3.700e+01,\n",
       "         0.000e+00],\n",
       "        [0.000e+00, 0.000e+00, 0.000e+00, ..., 2.070e+02, 1.910e+02,\n",
       "         4.400e+01],\n",
       "        [0.000e+00, 0.000e+00, 0.000e+00, ..., 3.020e+02, 3.490e+02,\n",
       "         2.850e+02],\n",
       "        ...,\n",
       "        [1.170e+02, 2.310e+02, 3.170e+02, ..., 1.599e+03, 1.537e+03,\n",
       "         1.460e+03],\n",
       "        [2.400e+01, 1.830e+02, 3.180e+02, ..., 1.489e+03, 1.489e+03,\n",
       "         1.423e+03],\n",
       "        [0.000e+00, 2.700e+01, 2.680e+02, ..., 1.471e+03, 1.456e+03,\n",
       "         1.361e+03]],\n",
       "\n",
       "       [[0.000e+00, 0.000e+00, 0.000e+00, ..., 2.100e+01, 1.250e+02,\n",
       "         1.500e+01],\n",
       "        [0.000e+00, 0.000e+00, 0.000e+00, ..., 1.540e+02, 1.910e+02,\n",
       "         1.590e+02],\n",
       "        [0.000e+00, 0.000e+00, 0.000e+00, ..., 2.880e+02, 3.020e+02,\n",
       "         2.880e+02],\n",
       "        ...,\n",
       "        [3.200e+01, 1.990e+02, 2.690e+02, ..., 1.513e+03, 1.489e+03,\n",
       "         1.284e+03],\n",
       "        [1.230e+02, 2.210e+02, 2.710e+02, ..., 1.431e+03, 1.375e+03,\n",
       "         1.362e+03],\n",
       "        [2.400e+01, 1.380e+02, 2.980e+02, ..., 1.375e+03, 1.368e+03,\n",
       "         1.332e+03]],\n",
       "\n",
       "       [[0.000e+00, 0.000e+00, 0.000e+00, ..., 0.000e+00, 2.600e+01,\n",
       "         9.400e+01],\n",
       "        [0.000e+00, 0.000e+00, 0.000e+00, ..., 3.500e+01, 1.570e+02,\n",
       "         1.880e+02],\n",
       "        [0.000e+00, 0.000e+00, 0.000e+00, ..., 1.990e+02, 2.700e+02,\n",
       "         2.420e+02],\n",
       "        ...,\n",
       "        [0.000e+00, 4.500e+01, 1.970e+02, ..., 1.413e+03, 1.405e+03,\n",
       "         1.300e+03],\n",
       "        [1.900e+01, 1.720e+02, 2.670e+02, ..., 1.424e+03, 1.349e+03,\n",
       "         1.252e+03],\n",
       "        [1.350e+02, 2.110e+02, 2.230e+02, ..., 1.298e+03, 1.363e+03,\n",
       "         1.180e+03]]])"
      ]
     },
     "execution_count": 131,
     "metadata": {},
     "output_type": "execute_result"
    }
   ],
   "source": [
    "XXX[1]+XXX[0]"
   ]
  }
 ],
 "metadata": {
  "kernelspec": {
   "display_name": "Python 3",
   "language": "python",
   "name": "python3"
  },
  "language_info": {
   "codemirror_mode": {
    "name": "ipython",
    "version": 3
   },
   "file_extension": ".py",
   "mimetype": "text/x-python",
   "name": "python",
   "nbconvert_exporter": "python",
   "pygments_lexer": "ipython3",
   "version": "3.8.2"
  }
 },
 "nbformat": 4,
 "nbformat_minor": 2
}
