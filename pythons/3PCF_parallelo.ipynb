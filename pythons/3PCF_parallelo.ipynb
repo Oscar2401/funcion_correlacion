{
 "cells": [
  {
   "cell_type": "code",
   "execution_count": 1,
   "metadata": {},
   "outputs": [],
   "source": [
    "from mpl_toolkits.mplot3d import Axes3D         # Cargo Axes3D de mpl_toolkits.mplot3d\n",
    "import matplotlib.pyplot as plt\n",
    "import numpy as np\n",
    "import random\n",
    "import time\n",
    "import pandas as pd\n",
    "from matplotlib import animation\n",
    "import sys \n",
    "import math\n",
    "%matplotlib inline"
   ]
  },
  {
   "cell_type": "code",
   "execution_count": 3,
   "metadata": {},
   "outputs": [],
   "source": [
    "#Libreria para programar en parallelo\n",
    "from pyspark import SparkContext\n",
    "import multiprocessing as mp\n",
    "from joblib import Parallel, delayed"
   ]
  },
  {
   "cell_type": "markdown",
   "metadata": {},
   "source": [
    "# Forma 1"
   ]
  },
  {
   "cell_type": "code",
   "execution_count": 15,
   "metadata": {},
   "outputs": [],
   "source": [
    "#FUNCIÓN DE PARA HACER HISTOGRAMAS \n",
    "def Histos_XXX(p,bn,point_max):\n",
    "    \"\"\" \n",
    "    Función para construir los histogramas \n",
    "    \n",
    "    p = datos\n",
    "    bn = tamaño de bins\n",
    "    point_max = punto máximo en el histograma\n",
    "    \n",
    "    \"\"\"\n",
    "    \n",
    "    #Inicializamos los arreglos de los histogramas\n",
    "    NDDD = np.zeros((bn,bn,bn))\n",
    "    \n",
    "    # =========================================================================================== \n",
    "    \n",
    "    n = 0\n",
    "    for (ii) in zip(p):\n",
    "        n = n+1\n",
    "        \n",
    "        s = ii-p[n:] # Diferencia entre el punto pivote y los demas puntos siguientes \n",
    "        r = np.sqrt(s[:,0]**2+s[:,1]**2+s[:,2]**2)\n",
    "        \n",
    "        m = 0\n",
    "        for (kk) in zip(p[n:]):\n",
    "            \n",
    "            #DDD ===============================================================================\n",
    "            r12 = np.ones_like(r[m+1:])*r[m]\n",
    "            r13 = r[m+1:]\n",
    "        \n",
    "            ss = kk-p[n:][m+1:] # Diferencia entre el punto pivote y los demas puntos siguientes \n",
    "            r32 = np.sqrt(ss[:,0]**2+ss[:,1]**2+ss[:,2]**2)\n",
    "        \n",
    "            # Histogramas para DDD\n",
    "            dis, dim = np.histogramdd(np.array([r12,r13,r32]).T,bins = [bn,bn,bn], \n",
    "                                    range=[[0,point_max],[0,point_max],[0,point_max]])\n",
    "            NDDD = NDDD + dis\n",
    "            \n",
    "            m = m+1\n",
    "    return NDDD"
   ]
  },
  {
   "cell_type": "code",
   "execution_count": 27,
   "metadata": {},
   "outputs": [],
   "source": [
    "#FUNCIÓN DE PARA HACER HISTOGRAMAS \n",
    "def Histos_XXY(datos,bn,point_max):\n",
    "    \n",
    "    p = datos[0]\n",
    "    p_r = datos[1]\n",
    "    \n",
    "    \"\"\" \n",
    "    Función para construir los histogramas \n",
    "    \n",
    "    p = datos\n",
    "    p_r = random\n",
    "    bn = tamaño de bins\n",
    "    point_max = punto máximo en el histograma\n",
    "    \n",
    "    \"\"\"\n",
    "    \n",
    "    #Inicializamos los arreglos de los histogramas\n",
    "    NDDR = np.zeros((bn,bn,bn))\n",
    "    \n",
    "    # =========================================================================================== \n",
    "    \n",
    "    n = 0\n",
    "    for (ii, jj) in zip(p, p_r):\n",
    "        n = n+1\n",
    "        \n",
    "        s = ii-p[n:] # Diferencia entre el punto pivote y los demas puntos siguientes \n",
    "        r = np.sqrt(s[:,0]**2+s[:,1]**2+s[:,2]**2)\n",
    "        \n",
    "        m = 0\n",
    "        for (kk, ll) in zip(p[n:], p_r[n:]):\n",
    "            \n",
    "            #DDR ===============================================================================\n",
    "            r12 = np.ones_like(p_r.T[0])*r[m]\n",
    "            \n",
    "            ss = ii-p_r # Diferencia entre el punto pivote y el punto en la muestra random \n",
    "            r13 = np.sqrt(ss[:,0]**2+ss[:,1]**2+ss[:,2]**2)\n",
    "            \n",
    "            ss = kk-p_r # Diferencia entre el punto 2 de los datos y el punto en la muestra random \n",
    "            r32 = np.sqrt(ss[:,0]**2+ss[:,1]**2+ss[:,2]**2)\n",
    "            \n",
    "            # Histogramas para DDR\n",
    "            dis, dim = np.histogramdd(np.array([r12,r13,r32]).T,bins = [bn,bn,bn], \n",
    "                                    range=[[0,point_max],[0,point_max],[0,point_max]])\n",
    "            NDDR = NDDR + dis\n",
    "            \n",
    "            m = m+1\n",
    "    \n",
    "    return  NDDR"
   ]
  },
  {
   "cell_type": "code",
   "execution_count": 19,
   "metadata": {},
   "outputs": [],
   "source": [
    "data = np.loadtxt('/home/echeveste/mis_trabajos/correlation_f/data/data_500.dat')[:,:3]\n",
    "rand = np.loadtxt('/home/echeveste/mis_trabajos/correlation_f/data/rand0_500.dat')[:,:3]"
   ]
  },
  {
   "cell_type": "code",
   "execution_count": 20,
   "metadata": {},
   "outputs": [],
   "source": [
    "sc.stop()"
   ]
  },
  {
   "cell_type": "code",
   "execution_count": 21,
   "metadata": {},
   "outputs": [
    {
     "name": "stdout",
     "output_type": "stream",
     "text": [
      "local[2]\n"
     ]
    }
   ],
   "source": [
    "nuc = 2\n",
    "sc = SparkContext(master='local[{0}]'.format(int(nuc)))\n",
    "print(sc.master)"
   ]
  },
  {
   "cell_type": "code",
   "execution_count": 22,
   "metadata": {},
   "outputs": [],
   "source": [
    "data_rand = sc.parallelize(np.split(np.concatenate((data, rand)),2))"
   ]
  },
  {
   "cell_type": "code",
   "execution_count": 17,
   "metadata": {},
   "outputs": [
    {
     "name": "stdout",
     "output_type": "stream",
     "text": [
      "Finializó en 69.61 segundos\n",
      "\n"
     ]
    }
   ],
   "source": [
    "#Paralelizado\n",
    "start = time.perf_counter()\n",
    "\n",
    "DDD = Histos_XXX(data,30,180)\n",
    "RRR = Histos_XXX(rand,30,180)\n",
    "\n",
    "finish = time.perf_counter()\n",
    "\n",
    "print(f'Finializó en {round(finish-start,2)} segundos\\n')"
   ]
  },
  {
   "cell_type": "code",
   "execution_count": 18,
   "metadata": {},
   "outputs": [
    {
     "name": "stdout",
     "output_type": "stream",
     "text": [
      "Finializó en 38.82 segundos\n",
      "\n"
     ]
    }
   ],
   "source": [
    "#Paralelizado\n",
    "start_pll = time.perf_counter()\n",
    "\n",
    "XXX = data_rand.map(lambda x: Histos_XXX(x,30,180)).collect()\n",
    "\n",
    "finish_pll = time.perf_counter()\n",
    "sc.stop()\n",
    "print(f'Finializó en {round(finish_pll-start_pll,2)} segundos\\n')"
   ]
  },
  {
   "cell_type": "code",
   "execution_count": 30,
   "metadata": {},
   "outputs": [],
   "source": [
    "DDD = XXX[0]\n",
    "RRR = XXX[1]"
   ]
  },
  {
   "cell_type": "code",
   "execution_count": 23,
   "metadata": {},
   "outputs": [
    {
     "name": "stdout",
     "output_type": "stream",
     "text": [
      "Paralelizado fue 1.79 veces mas rapido\n",
      "\n"
     ]
    }
   ],
   "source": [
    "print(f'Paralelizado fue {round((finish-start)/(finish_pll-start_pll),2)} veces mas rapido\\n')"
   ]
  },
  {
   "cell_type": "code",
   "execution_count": 29,
   "metadata": {},
   "outputs": [
    {
     "name": "stdout",
     "output_type": "stream",
     "text": [
      "Finializó en 42.48 segundos\n",
      "\n"
     ]
    }
   ],
   "source": [
    "#Paralelizado\n",
    "start_pll = time.perf_counter()\n",
    "\n",
    "XXY = Parallel(n_jobs=nuc)(delayed(Histos_XXY)(ii,30,180) for ii in [[data,rand],[rand,data]])\n",
    "\n",
    "finish_pll = time.perf_counter()\n",
    "print(f'Finializó en {round(finish_pll-start_pll,2)} segundos\\n')"
   ]
  },
  {
   "cell_type": "code",
   "execution_count": 32,
   "metadata": {},
   "outputs": [],
   "source": [
    "DDR = XXY[0]\n",
    "DRR = XXY[1]"
   ]
  },
  {
   "cell_type": "markdown",
   "metadata": {},
   "source": [
    "# Forma 2"
   ]
  },
  {
   "cell_type": "markdown",
   "metadata": {},
   "source": [
    "De esta forma tenemos la libertad de agregar mas nucleos si los tuvieramos. Por ahora solo usaremos 2 de los cuatro"
   ]
  },
  {
   "cell_type": "code",
   "execution_count": 86,
   "metadata": {},
   "outputs": [],
   "source": [
    "def puntos_23(ii,p,NDDD,bn,point_max):\n",
    "    \n",
    "    s = ii-p \n",
    "    r = np.sqrt(s[:,0]**2+s[:,1]**2+s[:,2]**2)\n",
    "        \n",
    "    m = 0\n",
    "    for (kk) in zip(p):\n",
    "            \n",
    "        r12 = np.ones_like(r[m+1:])*r[m]\n",
    "        r13 = r[m+1:]\n",
    "    \n",
    "        ss = kk-p[m+1:]\n",
    "        r32 = np.sqrt(ss[:,0]**2+ss[:,1]**2+ss[:,2]**2)\n",
    "        \n",
    "        dis, dim = np.histogramdd(np.array([r12,r13,r32]).T,bins = [bn,bn,bn], \n",
    "                                  range=[[0,point_max],[0,point_max],[0,point_max]])\n",
    "        NDDD = NDDD + dis\n",
    "        \n",
    "        m = m+1\n",
    "    \n",
    "    return NDDD"
   ]
  },
  {
   "cell_type": "code",
   "execution_count": 87,
   "metadata": {},
   "outputs": [],
   "source": [
    "#FUNCIÓN DE PARA HACER HISTOGRAMAS \n",
    "def Histos_XXX(p,bn,point_max,nuc):\n",
    "    \"\"\" \n",
    "    Función para construir los histogramas \n",
    "    \n",
    "    p = datos\n",
    "    bn = tamaño de bins\n",
    "    point_max = punto máximo en el histograma\n",
    "    nuc = cantidad de núcleos implementados \n",
    "    \n",
    "    \"\"\"\n",
    "    \n",
    "    #Inicializamos el arreglo del histograma\n",
    "    NDDD = np.zeros((bn,bn,bn))\n",
    "    \n",
    "    return np.sum(np.array(Parallel(n_jobs=nuc)(delayed(puntos_23)(p[i],p[i+1:],NDDD,30,180) for i in range(len(p)))),axis=1)\n",
    "    \n",
    "    "
   ]
  },
  {
   "cell_type": "code",
   "execution_count": 88,
   "metadata": {},
   "outputs": [
    {
     "name": "stdout",
     "output_type": "stream",
     "text": [
      "Finializó en 38.22 segundos\n",
      "\n"
     ]
    }
   ],
   "source": [
    "#Paralelizado\n",
    "start_pll = time.perf_counter()\n",
    "\n",
    "DDD_2 = Histos_XXX(data,30,180,2)\n",
    "RRR_2 = Histos_XXX(rand,30,180,2)\n",
    "\n",
    "finish_pll = time.perf_counter()\n",
    "print(f'Finializó en {round(finish_pll-start_pll,2)} segundos\\n')"
   ]
  },
  {
   "cell_type": "markdown",
   "metadata": {},
   "source": [
    "Como vemos, el tiempo en el que se realizan los histograms es practicamente el mismo que en la primera forma de paralelizar. Por lo tanto, esta forma es mejor por la capasidad de agregar más núcleos para mayor eficiencia."
   ]
  }
 ],
 "metadata": {
  "kernelspec": {
   "display_name": "Python 3",
   "language": "python",
   "name": "python3"
  },
  "language_info": {
   "codemirror_mode": {
    "name": "ipython",
    "version": 3
   },
   "file_extension": ".py",
   "mimetype": "text/x-python",
   "name": "python",
   "nbconvert_exporter": "python",
   "pygments_lexer": "ipython3",
   "version": "3.8.2"
  }
 },
 "nbformat": 4,
 "nbformat_minor": 2
}
