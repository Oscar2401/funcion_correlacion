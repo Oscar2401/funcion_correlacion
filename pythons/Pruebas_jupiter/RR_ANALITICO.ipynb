{
 "cells": [
  {
   "cell_type": "code",
   "execution_count": 1,
   "metadata": {},
   "outputs": [],
   "source": [
    "import numpy as np"
   ]
  },
  {
   "cell_type": "code",
   "execution_count": 2,
   "metadata": {},
   "outputs": [],
   "source": [
    "data = np.loadtxt(\"/home/echeveste/mis_trabajos/correlation_f_2/funcion_correlacion/datos/dat_glx/data.dat\")"
   ]
  },
  {
   "cell_type": "code",
   "execution_count": 3,
   "metadata": {},
   "outputs": [],
   "source": [
    "N = len(data)\n",
    "V = 250*250*250 \n",
    "r = np.linspace(0,180,30)\n",
    "dr = r[1]-r[0]\n",
    "v_r = (4*np.pi/3)*((r+dr/2)**3 - (r-dr/2)**3)"
   ]
  },
  {
   "cell_type": "code",
   "execution_count": 4,
   "metadata": {},
   "outputs": [],
   "source": [
    "RR = (N**2/V)*v_r"
   ]
  },
  {
   "cell_type": "code",
   "execution_count": 5,
   "metadata": {},
   "outputs": [
    {
     "data": {
      "text/plain": [
       "array([1.72080628e+04, 2.23704817e+05, 8.43195079e+05, 1.87567885e+06,\n",
       "       3.32115613e+06, 5.17962692e+06, 7.45109121e+06, 1.01355490e+07,\n",
       "       1.32330003e+07, 1.67434451e+07, 2.06668835e+07, 2.50033153e+07,\n",
       "       2.97527407e+07, 3.49151595e+07, 4.04905719e+07, 4.64789777e+07,\n",
       "       5.28803771e+07, 5.96947700e+07, 6.69221564e+07, 7.45625363e+07,\n",
       "       8.26159097e+07, 9.10822766e+07, 9.99616371e+07, 1.09253991e+08,\n",
       "       1.18959338e+08, 1.29077679e+08, 1.39609014e+08, 1.50553342e+08,\n",
       "       1.61910663e+08, 1.73680978e+08])"
      ]
     },
     "execution_count": 5,
     "metadata": {},
     "output_type": "execute_result"
    }
   ],
   "source": [
    "RR"
   ]
  },
  {
   "cell_type": "code",
   "execution_count": null,
   "metadata": {},
   "outputs": [],
   "source": []
  }
 ],
 "metadata": {
  "kernelspec": {
   "display_name": "Python 3",
   "language": "python",
   "name": "python3"
  },
  "language_info": {
   "codemirror_mode": {
    "name": "ipython",
    "version": 3
   },
   "file_extension": ".py",
   "mimetype": "text/x-python",
   "name": "python",
   "nbconvert_exporter": "python",
   "pygments_lexer": "ipython3",
   "version": "3.8.2"
  }
 },
 "nbformat": 4,
 "nbformat_minor": 4
}
