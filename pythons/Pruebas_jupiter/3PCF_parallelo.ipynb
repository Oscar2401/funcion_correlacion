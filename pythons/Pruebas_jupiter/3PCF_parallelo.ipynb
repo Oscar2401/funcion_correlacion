{
 "cells": [
  {
   "cell_type": "code",
   "execution_count": 1,
   "metadata": {},
   "outputs": [],
   "source": [
    "from mpl_toolkits.mplot3d import Axes3D         # Cargo Axes3D de mpl_toolkits.mplot3d\n",
    "import matplotlib.pyplot as plt\n",
    "import numpy as np\n",
    "import random\n",
    "import time\n",
    "import pandas as pd\n",
    "from matplotlib import animation\n",
    "import sys \n",
    "import math\n",
    "%matplotlib inline"
   ]
  },
  {
   "cell_type": "code",
   "execution_count": 2,
   "metadata": {},
   "outputs": [],
   "source": [
    "#Libreria para programar en parallelo\n",
    "from pyspark import SparkContext\n",
    "import multiprocessing as mp\n",
    "from joblib import Parallel, delayed"
   ]
  },
  {
   "cell_type": "markdown",
   "metadata": {},
   "source": [
    "# Forma 1\n",
    "\n",
    "Paralelizamos el código haciendo que DDD y RRR se lleve a cabo en dos hilos al igual que DDR y DRR."
   ]
  },
  {
   "cell_type": "code",
   "execution_count": 3,
   "metadata": {},
   "outputs": [],
   "source": [
    "#FUNCIÓN DE PARA HACER HISTOGRAMAS \n",
    "def Histos_XXX(p,bn,point_max):\n",
    "    \"\"\" \n",
    "    Función para construir los histogramas \n",
    "    \n",
    "    p = datos\n",
    "    bn = tamaño de bins\n",
    "    point_max = punto máximo en el histograma\n",
    "    \n",
    "    \"\"\"\n",
    "    \n",
    "    #Inicializamos los arreglos de los histogramas\n",
    "    NDDD = np.zeros((bn,bn,bn))\n",
    "    \n",
    "    # =========================================================================================== \n",
    "    \n",
    "    n = 0\n",
    "    for (ii) in zip(p):\n",
    "        n = n+1\n",
    "        \n",
    "        s = ii-p[n:] # Diferencia entre el punto pivote y los demas puntos siguientes \n",
    "        r = np.sqrt(s[:,0]**2+s[:,1]**2+s[:,2]**2)\n",
    "        \n",
    "        m = 0\n",
    "        for (kk) in zip(p[n:]):\n",
    "            \n",
    "            #DDD ===============================================================================\n",
    "            r12 = np.ones_like(r[m+1:])*r[m]\n",
    "            r13 = r[m+1:]\n",
    "        \n",
    "            ss = kk-p[n:][m+1:] # Diferencia entre el punto pivote y los demas puntos siguientes \n",
    "            r32 = np.sqrt(ss[:,0]**2+ss[:,1]**2+ss[:,2]**2)\n",
    "        \n",
    "            # Histogramas para DDD\n",
    "            dis, dim = np.histogramdd(np.array([r12,r13,r32]).T,bins = [bn,bn,bn], \n",
    "                                    range=[[0,point_max],[0,point_max],[0,point_max]])\n",
    "            NDDD = NDDD + dis\n",
    "            \n",
    "            m = m+1\n",
    "    return NDDD"
   ]
  },
  {
   "cell_type": "code",
   "execution_count": 4,
   "metadata": {},
   "outputs": [],
   "source": [
    "#FUNCIÓN DE PARA HACER HISTOGRAMAS \n",
    "def Histos_XXY(datos,bn,point_max):\n",
    "    \n",
    "    p = datos[0]\n",
    "    p_r = datos[1]\n",
    "    \n",
    "    \"\"\" \n",
    "    Función para construir los histogramas \n",
    "    \n",
    "    p = datos\n",
    "    p_r = random\n",
    "    bn = tamaño de bins\n",
    "    point_max = punto máximo en el histograma\n",
    "    \n",
    "    \"\"\"\n",
    "    \n",
    "    #Inicializamos los arreglos de los histogramas\n",
    "    NDDR = np.zeros((bn,bn,bn))\n",
    "    \n",
    "    # =========================================================================================== \n",
    "    \n",
    "    n = 0\n",
    "    for (ii, jj) in zip(p, p_r):\n",
    "        n = n+1\n",
    "        \n",
    "        s = ii-p[n:] # Diferencia entre el punto pivote y los demas puntos siguientes \n",
    "        r = np.sqrt(s[:,0]**2+s[:,1]**2+s[:,2]**2)\n",
    "        \n",
    "        m = 0\n",
    "        for (kk, ll) in zip(p[n:], p_r[n:]):\n",
    "            \n",
    "            #DDR ===============================================================================\n",
    "            r12 = np.ones_like(p_r.T[0])*r[m]\n",
    "            \n",
    "            ss = ii-p_r # Diferencia entre el punto pivote y el punto en la muestra random \n",
    "            r13 = np.sqrt(ss[:,0]**2+ss[:,1]**2+ss[:,2]**2)\n",
    "            \n",
    "            ss = kk-p_r # Diferencia entre el punto 2 de los datos y el punto en la muestra random \n",
    "            r32 = np.sqrt(ss[:,0]**2+ss[:,1]**2+ss[:,2]**2)\n",
    "            \n",
    "            # Histogramas para DDR\n",
    "            dis, dim = np.histogramdd(np.array([r12,r13,r32]).T,bins = [bn,bn,bn], \n",
    "                                    range=[[0,point_max],[0,point_max],[0,point_max]])\n",
    "            NDDR = NDDR + dis\n",
    "            \n",
    "            m = m+1\n",
    "    \n",
    "    return  NDDR"
   ]
  },
  {
   "cell_type": "code",
   "execution_count": 18,
   "metadata": {},
   "outputs": [],
   "source": [
    "data = np.loadtxt('/home/echeveste/mis_trabajos/correlation_f_2/datos/dat_glx/data_500.dat')[:,:3]\n",
    "rand = np.loadtxt('/home/echeveste/mis_trabajos/correlation_f_2/datos/dat_glx/rand0_500.dat')[:,:3]"
   ]
  },
  {
   "cell_type": "code",
   "execution_count": 10,
   "metadata": {},
   "outputs": [],
   "source": [
    "sc.stop()"
   ]
  },
  {
   "cell_type": "code",
   "execution_count": 11,
   "metadata": {},
   "outputs": [
    {
     "name": "stdout",
     "output_type": "stream",
     "text": [
      "local[2]\n"
     ]
    }
   ],
   "source": [
    "#Escogemos el número de nucleos con los que trabajaremos \n",
    "nuc = 2\n",
    "sc = SparkContext(master='local[{0}]'.format(int(nuc)))\n",
    "print(sc.master)"
   ]
  },
  {
   "cell_type": "code",
   "execution_count": 12,
   "metadata": {},
   "outputs": [],
   "source": [
    "#Juntamos los datos y randoms en un arreglo \n",
    "data_rand = sc.parallelize(np.split(np.concatenate((data, rand)),2))"
   ]
  },
  {
   "cell_type": "code",
   "execution_count": 9,
   "metadata": {},
   "outputs": [
    {
     "name": "stdout",
     "output_type": "stream",
     "text": [
      "Finializó en 70.29 segundos\n",
      "\n"
     ]
    }
   ],
   "source": [
    "#No paralelizado\n",
    "#Hacemos los histogramas DDD y RRR\n",
    "start = time.perf_counter()\n",
    "\n",
    "DDD = Histos_XXX(data,30,180)\n",
    "RRR = Histos_XXX(rand,30,180)\n",
    "\n",
    "finish = time.perf_counter()\n",
    "\n",
    "print(f'Finializó en {round(finish-start,2)} segundos\\n')"
   ]
  },
  {
   "cell_type": "code",
   "execution_count": 10,
   "metadata": {},
   "outputs": [
    {
     "name": "stdout",
     "output_type": "stream",
     "text": [
      "Finializó en 47.22 segundos\n",
      "\n"
     ]
    }
   ],
   "source": [
    "#Paralelizado\n",
    "#Hacemos los histogramas DDD y RRR\n",
    "start_pll = time.perf_counter()\n",
    "\n",
    "XXX = data_rand.map(lambda x: Histos_XXX(x,30,180)).collect()\n",
    "\n",
    "finish_pll = time.perf_counter()\n",
    "sc.stop()\n",
    "print(f'Finializó en {round(finish_pll-start_pll,2)} segundos\\n')"
   ]
  },
  {
   "cell_type": "code",
   "execution_count": 11,
   "metadata": {},
   "outputs": [],
   "source": [
    "DDD = XXX[0]\n",
    "RRR = XXX[1]"
   ]
  },
  {
   "cell_type": "code",
   "execution_count": 12,
   "metadata": {},
   "outputs": [
    {
     "name": "stdout",
     "output_type": "stream",
     "text": [
      "Paralelizado fue 1.49 veces mas rapido\n",
      "\n"
     ]
    }
   ],
   "source": [
    "print(f'Paralelizado fue {round((finish-start)/(finish_pll-start_pll),2)} veces mas rapido\\n')"
   ]
  },
  {
   "cell_type": "code",
   "execution_count": 29,
   "metadata": {},
   "outputs": [
    {
     "name": "stdout",
     "output_type": "stream",
     "text": [
      "Finializó en 42.48 segundos\n",
      "\n"
     ]
    }
   ],
   "source": [
    "#Paralelizado\n",
    "start_pll = time.perf_counter()\n",
    "\n",
    "XXY = Parallel(n_jobs=nuc)(delayed(Histos_XXY)(ii,30,180) for ii in [[data,rand],[rand,data]])\n",
    "\n",
    "finish_pll = time.perf_counter()\n",
    "print(f'Finializó en {round(finish_pll-start_pll,2)} segundos\\n')"
   ]
  },
  {
   "cell_type": "code",
   "execution_count": 32,
   "metadata": {},
   "outputs": [],
   "source": [
    "DDR = XXY[0]\n",
    "DRR = XXY[1]"
   ]
  },
  {
   "cell_type": "markdown",
   "metadata": {},
   "source": [
    "# Forma 2"
   ]
  },
  {
   "cell_type": "markdown",
   "metadata": {},
   "source": [
    "De esta forma tenemos la libertad de agregar mas nucleos si los tuvieramos. Por ahora solo usaremos 2 de los cuatro"
   ]
  },
  {
   "cell_type": "code",
   "execution_count": 13,
   "metadata": {},
   "outputs": [],
   "source": [
    "def puntos_23(ii,p,NDDD,bn,point_max):\n",
    "    \n",
    "    s = ii-p \n",
    "    r = np.sqrt(s[:,0]**2+s[:,1]**2+s[:,2]**2)\n",
    "        \n",
    "    m = 0\n",
    "    for (kk) in zip(p):\n",
    "            \n",
    "        r12 = np.ones_like(r[m+1:])*r[m]\n",
    "        r13 = r[m+1:]\n",
    "    \n",
    "        ss = kk-p[m+1:]\n",
    "        r32 = np.sqrt(ss[:,0]**2+ss[:,1]**2+ss[:,2]**2)\n",
    "        \n",
    "        dis, dim = np.histogramdd(np.array([r12,r13,r32]).T,bins = [bn,bn,bn], \n",
    "                                  range=[[0,point_max],[0,point_max],[0,point_max]])\n",
    "        NDDD = NDDD + dis\n",
    "        \n",
    "        m = m+1\n",
    "    \n",
    "    return NDDD"
   ]
  },
  {
   "cell_type": "code",
   "execution_count": 14,
   "metadata": {},
   "outputs": [],
   "source": [
    "#FUNCIÓN DE PARA HACER HISTOGRAMAS \n",
    "def Histos_XXX(p,bn,point_max,nuc):\n",
    "\n",
    "    #Inicializamos el arreglo del histograma\n",
    "    NDDD = np.zeros((bn,bn,bn))\n",
    "    \n",
    "    return np.sum(np.array(Parallel(n_jobs=nuc)(delayed(puntos_23)(p[i],p[i+1:],NDDD,bn,point_max) for i in range(len(p)))),axis=0)\n",
    "    \n",
    "    "
   ]
  },
  {
   "cell_type": "code",
   "execution_count": 15,
   "metadata": {},
   "outputs": [],
   "source": [
    "def puntos(ii,p,p_r,NDDR,bn,point_max,n):\n",
    "    \n",
    "    n = n+1\n",
    "        \n",
    "    s = ii-p[n:] # Diferencia entre el punto pivote y los demas puntos siguientes \n",
    "    r = np.sqrt(s[:,0]**2+s[:,1]**2+s[:,2]**2)\n",
    "        \n",
    "    m = 0\n",
    "    for kk in p[n:]:\n",
    "            \n",
    "        #DDR ===============================================================================\n",
    "        r12 = np.ones_like(p_r.T[0])*r[m]\n",
    "        \n",
    "        ss = ii-p_r # Diferencia entre el punto pivote y el punto en la muestra random \n",
    "        r13 = np.sqrt(ss[:,0]**2+ss[:,1]**2+ss[:,2]**2)\n",
    "        \n",
    "        ss = kk-p_r # Diferencia entre el punto 2 de los datos y el punto en la muestra random \n",
    "        r32 = np.sqrt(ss[:,0]**2+ss[:,1]**2+ss[:,2]**2)\n",
    "        \n",
    "        # Histogramas para DDR\n",
    "        dis, dim = np.histogramdd(np.array([r12,r13,r32]).T,bins = [bn,bn,bn], \n",
    "                                range=[[0,point_max],[0,point_max],[0,point_max]])\n",
    "        NDDR = NDDR + dis\n",
    "            \n",
    "        m = m+1\n",
    "    return  NDDR"
   ]
  },
  {
   "cell_type": "code",
   "execution_count": 16,
   "metadata": {},
   "outputs": [],
   "source": [
    "#FUNCIÓN DE PARA HACER HISTOGRAMAS \n",
    "def Histos_XXY(p,p_r,bn,point_max,nuc):\n",
    "    \n",
    "    #Inicializamos los arreglos de los histogramas\n",
    "    NDDR = np.zeros((bn,bn,bn))\n",
    "    \n",
    "    # =========================================================================================== \n",
    "    \n",
    "    return np.sum(np.array(Parallel(n_jobs=nuc)(delayed(puntos)(p[i],p,\n",
    "                                                         p_r,NDDR,bn,point_max,i) for i in range(len(p)))),axis=0)"
   ]
  },
  {
   "cell_type": "code",
   "execution_count": 19,
   "metadata": {},
   "outputs": [
    {
     "name": "stdout",
     "output_type": "stream",
     "text": [
      "Finializó en 86.5 segundos\n",
      "\n"
     ]
    }
   ],
   "source": [
    "#Paralelizado\n",
    "\n",
    "nuc = 2\n",
    "bins = 30\n",
    "\n",
    "start_pll = time.perf_counter()\n",
    "\n",
    "DDD_2 = Histos_XXX(data,bins,180,nuc)\n",
    "RRR_2 = Histos_XXX(rand,bins,180,nuc)\n",
    "\n",
    "DDR_2 = Histos_XXY(data,rand,bins,180,nuc)\n",
    "DRR_2 = Histos_XXY(rand,data,bins,180,nuc)\n",
    "\n",
    "finish_pll = time.perf_counter()\n",
    "print(f'Finializó en {round(finish_pll-start_pll,2)} segundos\\n')"
   ]
  },
  {
   "cell_type": "markdown",
   "metadata": {},
   "source": [
    "Como vemos, el tiempo en el que se realizan los histograms es practicamente el mismo que en la primera forma de paralelizar. Por lo tanto, esta forma es mejor por la capasidad de agregar más núcleos para mayor eficiencia."
   ]
  },
  {
   "cell_type": "code",
   "execution_count": 20,
   "metadata": {},
   "outputs": [],
   "source": [
    "DDD = DDD_2\n",
    "RRR = RRR_2\n",
    "DDR = DDR_2\n",
    "DRR = DRR_2\n",
    "\n",
    "for i in range(bins - 2):\n",
    "    for j in range(i+1, bins-1):\n",
    "        for k in range(j+1, bins):\n",
    "            s = DDD_2[i][j][k] + DDD_2[i][k][j] + DDD_2[j][i][k] + DDD_2[j][k][i] + DDD_2[k][i][j] + DDD_2[k][j][i]\n",
    "            DDD[i][j][k] = s\n",
    "            DDD[i][k][j] = s\n",
    "            DDD[j][i][k] = s\n",
    "            DDD[j][k][i] = s\n",
    "            DDD[k][i][j] = s\n",
    "            DDD[k][j][i] = s\n",
    "            s = RRR_2[i][j][k] + RRR_2[i][k][j] + RRR_2[j][i][k] + RRR_2[j][k][i] + RRR_2[k][i][j] + RRR_2[k][j][i]\n",
    "            RRR[i][j][k] = s\n",
    "            RRR[i][k][j] = s\n",
    "            RRR[j][i][k] = s\n",
    "            RRR[j][k][i] = s\n",
    "            RRR[k][i][j] = s\n",
    "            RRR[k][j][i] = s\n",
    "            \n",
    "for i in range(bins - 2):\n",
    "    for j in range(i+1, bins-1):\n",
    "        for k in range(j+1,bins):\n",
    "            s = DDR_2[i][j][k] + DDR_2[j][i][k]+ DDR_2[i][k][j]+ DDR_2[j][k][i]+ DDR_2[k][i][j] + DDR_2[k][j][i]\n",
    "            DDR[i][j][k] = s\n",
    "            DDR[i][k][j] = s\n",
    "            DDR[j][i][k] = s\n",
    "            DDR[j][k][i] = s\n",
    "            DDR[k][i][j] = s\n",
    "            DDR[k][j][i] = s\n",
    "        \n",
    "            s = DRR_2[i][j][k] + DRR_2[j][i][k]+ DRR_2[i][k][j]+ DRR_2[j][k][i]+ DRR_2[k][i][j]+ DRR_2[k][j][i]\n",
    "            DRR[i][j][k] = s\n",
    "            DRR[i][k][j] = s\n",
    "            DRR[j][i][k] = s\n",
    "            DRR[j][k][i] = s\n",
    "            DRR[k][i][j] = s\n",
    "            DRR[k][j][i] = s"
   ]
  },
  {
   "cell_type": "code",
   "execution_count": 28,
   "metadata": {},
   "outputs": [],
   "source": [
    "#Función de correlación Landy-Szalay\n",
    "def estima_ss(NDDD, NRRR, NDDR, NDRR):\n",
    "    return (NDDD - 3*NDDR + 3*NDRR - NRRR)/NRRR"
   ]
  },
  {
   "cell_type": "code",
   "execution_count": 29,
   "metadata": {},
   "outputs": [
    {
     "name": "stderr",
     "output_type": "stream",
     "text": [
      "<ipython-input-28-c70e7b1a3d8f>:3: RuntimeWarning: divide by zero encountered in true_divide\n",
      "  return (NDDD - 3*NDDR + 3*NDRR - NRRR)/NRRR\n",
      "<ipython-input-28-c70e7b1a3d8f>:3: RuntimeWarning: invalid value encountered in true_divide\n",
      "  return (NDDD - 3*NDDR + 3*NDRR - NRRR)/NRRR\n"
     ]
    }
   ],
   "source": [
    "estim_ss = estima_ss(DDD, RRR, DDR, DRR)"
   ]
  },
  {
   "cell_type": "code",
   "execution_count": 30,
   "metadata": {},
   "outputs": [],
   "source": [
    "estim_ss[np.where(np.isnan(estim_ss))] = 0\n",
    "estim_ss[np.where(np.isinf(estim_ss))] = 0"
   ]
  },
  {
   "cell_type": "code",
   "execution_count": 31,
   "metadata": {},
   "outputs": [],
   "source": [
    "def imag(x,y,t,cmap,limt):\n",
    "    \n",
    "    plt.figure(figsize=(6,6), dpi=100)\n",
    "    plt.imshow(x,origin='lower',cmap=cmap, interpolation= 'bilinear', extent=[0,180,0,180], vmin=-limt, vmax=limt)\n",
    "    cax=plt.colorbar()\n",
    "    plt.contour(x,10,cmap=plt.cm.gray,linewidths=1\n",
    "                ,extent=[0,180,0,180],vmin=-limt, vmax=limt)\n",
    "    plt.ylabel('$r_1$',fontsize = 16)\n",
    "    plt.xlabel('$r_2$',fontsize = 16)\n",
    "    plt.title(y,fontsize = 16)\n",
    "    plt.subplots_adjust(bottom=0.1, right=0.8, top=0.9)\n",
    "    cax.set_label(t,labelpad = 15,fontsize = 15)\n",
    "    line_colour1 = ('royalblue', 'blue', 'mediumblue', 'darkblue')\n",
    "    plt.plot()"
   ]
  },
  {
   "cell_type": "code",
   "execution_count": 35,
   "metadata": {},
   "outputs": [
    {
     "data": {
      "image/png": "[encoded data removed]",
      "text/plain": [
       "<Figure size 600x600 with 2 Axes>"
      ]
     },
     "metadata": {
      "needs_background": "light"
     },
     "output_type": "display_data"
    }
   ],
   "source": [
    "limt = 0.5\n",
    "r = 0\n",
    "imag(estim_ss[r],'Función de Correlación','$\\epsilon(r_1,r_2,r_3={0})$'.format(r*(180)/30),cmap='RdBu', limt = limt)"
   ]
  },
  {
   "cell_type": "code",
   "execution_count": null,
   "metadata": {},
   "outputs": [],
   "source": []
  }
 ],
 "metadata": {
  "kernelspec": {
   "display_name": "Python 3",
   "language": "python",
   "name": "python3"
  },
  "language_info": {
   "codemirror_mode": {
    "name": "ipython",
    "version": 3
   },
   "file_extension": ".py",
   "mimetype": "text/x-python",
   "name": "python",
   "nbconvert_exporter": "python",
   "pygments_lexer": "ipython3",
   "version": "3.8.2"
  }
 },
 "nbformat": 4,
 "nbformat_minor": 2
}
